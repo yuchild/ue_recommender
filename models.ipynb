{
 "cells": [
  {
   "cell_type": "code",
   "execution_count": 1,
   "metadata": {},
   "outputs": [],
   "source": [
    "\"\"\"\n",
    "\n",
    "Your new task will be to use this dataset and use \n",
    "attendee_id, event_id and purchase_quad as the feature columns and \n",
    "predict or recommend the the purchase_type based on your learning \n",
    "of my sent recommendation engine internet site link.\n",
    "\n",
    "And, do lot of statistical analysis, visualization and some \n",
    "correlation check before do the recommendation or prediction \n",
    "model train. So, that purpose of prediction and feature dataset \n",
    "exploratory analysis done to do insight into dataset columns.\n",
    "\n",
    "Attendee id is list of ids of unique attendees in the event, \n",
    "event_id is event type id, purchase_quad is time of event \n",
    "duration time divided into 4 quadrant and purchase_type is \n",
    "type of purchase done by the buyer.\n",
    "\n",
    "Code Example:\n",
    "https://keras.io/examples/structured_data/collaborative_filtering_movielens/\n",
    "\n",
    "\"\"\"\n",
    "\n",
    "import pandas as pd\n",
    "import numpy as np\n",
    "import matplotlib.pyplot as plt\n",
    "plt.style.use('fivethirtyeight')\n",
    "import seaborn as sns\n",
    "\n",
    "import tensorflow as tf\n",
    "from tensorflow import keras\n",
    "from tensorflow.keras import layers"
   ]
  },
  {
   "cell_type": "code",
   "execution_count": 2,
   "metadata": {},
   "outputs": [
    {
     "data": {
      "text/html": [
       "<div>\n",
       "<style scoped>\n",
       "    .dataframe tbody tr th:only-of-type {\n",
       "        vertical-align: middle;\n",
       "    }\n",
       "\n",
       "    .dataframe tbody tr th {\n",
       "        vertical-align: top;\n",
       "    }\n",
       "\n",
       "    .dataframe thead th {\n",
       "        text-align: right;\n",
       "    }\n",
       "</style>\n",
       "<table border=\"1\" class=\"dataframe\">\n",
       "  <thead>\n",
       "    <tr style=\"text-align: right;\">\n",
       "      <th></th>\n",
       "      <th>event_id</th>\n",
       "      <th>attendee_id</th>\n",
       "      <th>order_id</th>\n",
       "      <th>purchase_quad</th>\n",
       "      <th>purchase_type</th>\n",
       "    </tr>\n",
       "  </thead>\n",
       "  <tbody>\n",
       "    <tr>\n",
       "      <th>0</th>\n",
       "      <td>1</td>\n",
       "      <td>342606</td>\n",
       "      <td>3786</td>\n",
       "      <td>2</td>\n",
       "      <td>2</td>\n",
       "    </tr>\n",
       "    <tr>\n",
       "      <th>1</th>\n",
       "      <td>1</td>\n",
       "      <td>342606</td>\n",
       "      <td>3786</td>\n",
       "      <td>3</td>\n",
       "      <td>2</td>\n",
       "    </tr>\n",
       "    <tr>\n",
       "      <th>2</th>\n",
       "      <td>1</td>\n",
       "      <td>342606</td>\n",
       "      <td>3786</td>\n",
       "      <td>4</td>\n",
       "      <td>0</td>\n",
       "    </tr>\n",
       "    <tr>\n",
       "      <th>3</th>\n",
       "      <td>1</td>\n",
       "      <td>342606</td>\n",
       "      <td>3786</td>\n",
       "      <td>1</td>\n",
       "      <td>0</td>\n",
       "    </tr>\n",
       "    <tr>\n",
       "      <th>4</th>\n",
       "      <td>1</td>\n",
       "      <td>342606</td>\n",
       "      <td>3786</td>\n",
       "      <td>3</td>\n",
       "      <td>0</td>\n",
       "    </tr>\n",
       "  </tbody>\n",
       "</table>\n",
       "</div>"
      ],
      "text/plain": [
       "   event_id  attendee_id  order_id  purchase_quad  purchase_type\n",
       "0         1       342606      3786              2              2\n",
       "1         1       342606      3786              3              2\n",
       "2         1       342606      3786              4              0\n",
       "3         1       342606      3786              1              0\n",
       "4         1       342606      3786              3              0"
      ]
     },
     "execution_count": 2,
     "metadata": {},
     "output_type": "execute_result"
    }
   ],
   "source": [
    "df = pd.read_csv('./data/event_1_transactions.csv'\n",
    "                 , index_col = 0\n",
    "                )\n",
    "df.head()"
   ]
  },
  {
   "cell_type": "markdown",
   "metadata": {},
   "source": [
    "## NN Recommender Model"
   ]
  },
  {
   "cell_type": "code",
   "execution_count": 3,
   "metadata": {},
   "outputs": [
    {
     "name": "stdout",
     "output_type": "stream",
     "text": [
      "Number of Attendees: 1996, Number of Purchase Types: 3, Min Quad: 1.0, Max Quad: 4.0\n"
     ]
    }
   ],
   "source": [
    "attendee_ids = df[\"attendee_id\"].unique().tolist()\n",
    "a2a_encoded = {x: i for i, x in enumerate(attendee_ids)}\n",
    "a_encoded2a = {i: x for i, x in enumerate(attendee_ids)}\n",
    "\n",
    "type_ids = df[\"purchase_type\"].unique().tolist()\n",
    "type2type_encoded = {x: i for i, x in enumerate(type_ids)}\n",
    "type_encoded2type = {i: x for i, x in enumerate(type_ids)}\n",
    "\n",
    "df[\"attendee\"] = df[\"attendee_id\"].map(a2a_encoded)\n",
    "df[\"type\"] = df[\"purchase_type\"].map(type2type_encoded)\n",
    "\n",
    "num_attendee = len(a2a_encoded)\n",
    "num_type = len(type_encoded2type)\n",
    "\n",
    "df[\"purchase_quad\"] = df[\"purchase_quad\"].values.astype(np.float32)\n",
    "# min and max quads will be used to normalize the ratings later\n",
    "min_quad = min(df[\"purchase_quad\"])\n",
    "max_quad = max(df[\"purchase_quad\"])\n",
    "\n",
    "print(\n",
    "    \"Number of Attendees: {}, Number of Purchase Types: {}, Min Quad: {}, Max Quad: {}\".format(\n",
    "        num_attendee, num_type, min_quad, max_quad\n",
    "    )\n",
    ")"
   ]
  },
  {
   "cell_type": "code",
   "execution_count": 4,
   "metadata": {},
   "outputs": [],
   "source": [
    "df = df.sample(frac=1, random_state=42)\n",
    "x = df[[\"attendee\", \"type\"]].values\n",
    "# Normalize the targets between 0 and 1. Makes it easy to train.\n",
    "y = df[\"purchase_quad\"].apply(lambda x: (x - min_quad) / (max_quad - min_quad)).values\n",
    "# Assuming training on 90% of the data and validating on 10%.\n",
    "train_indices = int(0.9 * df.shape[0])\n",
    "x_train, x_val, y_train, y_val = (\n",
    "    x[:train_indices],\n",
    "    x[train_indices:],\n",
    "    y[:train_indices],\n",
    "    y[train_indices:],\n",
    ")"
   ]
  },
  {
   "cell_type": "code",
   "execution_count": 5,
   "metadata": {},
   "outputs": [
    {
     "data": {
      "text/plain": [
       "(array([1795,    2]), 0.6666666666666666)"
      ]
     },
     "execution_count": 5,
     "metadata": {},
     "output_type": "execute_result"
    }
   ],
   "source": [
    "x[0], y[0]"
   ]
  },
  {
   "cell_type": "markdown",
   "metadata": {},
   "source": [
    "## NN Recommender Class"
   ]
  },
  {
   "cell_type": "code",
   "execution_count": 6,
   "metadata": {},
   "outputs": [],
   "source": [
    "EMBEDDING_SIZE = 50\n",
    "\n",
    "\n",
    "class RecommenderNet(keras.Model):\n",
    "    def __init__(self, num_attendee, num_type, embedding_size, **kwargs):\n",
    "        super(RecommenderNet, self).__init__(**kwargs)\n",
    "        self.num_attendee = num_attendee\n",
    "        self.num_type = num_type\n",
    "        self.embedding_size = embedding_size\n",
    "        self.attendee_embedding = layers.Embedding(\n",
    "            num_attendee,\n",
    "            embedding_size,\n",
    "            embeddings_initializer=\"he_normal\",\n",
    "            embeddings_regularizer=keras.regularizers.l2(1e-6),\n",
    "        )\n",
    "        self.attendee_bias = layers.Embedding(num_attendee, 1)\n",
    "        self.type_embedding = layers.Embedding(\n",
    "            num_type,\n",
    "            embedding_size,\n",
    "            embeddings_initializer=\"he_normal\",\n",
    "            embeddings_regularizer=keras.regularizers.l2(1e-6),\n",
    "        )\n",
    "        self.type_bias = layers.Embedding(num_type, 1)\n",
    "\n",
    "    def call(self, inputs):\n",
    "        attendee_vector = self.attendee_embedding(inputs[:, 0])\n",
    "        attendee_bias = self.attendee_bias(inputs[:, 0])\n",
    "        type_vector = self.type_embedding(inputs[:, 1])\n",
    "        type_bias = self.type_bias(inputs[:, 1])\n",
    "        dot_attendee_type = tf.tensordot(attendee_vector, type_vector, 2)\n",
    "        # Add all the components (including bias)\n",
    "        x = dot_attendee_type + attendee_bias + type_bias\n",
    "        # The sigmoid activation forces the rating to between 0 and 1\n",
    "        return tf.nn.sigmoid(x)"
   ]
  },
  {
   "cell_type": "code",
   "execution_count": 7,
   "metadata": {},
   "outputs": [],
   "source": [
    "model = RecommenderNet(num_attendee, num_type, EMBEDDING_SIZE)\n",
    "model.compile(\n",
    "    loss=tf.keras.losses.BinaryCrossentropy(), optimizer=keras.optimizers.Adam(lr=0.001)\n",
    ")"
   ]
  },
  {
   "cell_type": "code",
   "execution_count": 8,
   "metadata": {
    "scrolled": true
   },
   "outputs": [
    {
     "name": "stdout",
     "output_type": "stream",
     "text": [
      "Epoch 1/50\n",
      "137/137 [==============================] - 0s 2ms/step - loss: 1.0029 - val_loss: 0.9918\n",
      "Epoch 2/50\n",
      "137/137 [==============================] - 0s 943us/step - loss: 1.3101 - val_loss: 1.2800\n",
      "Epoch 3/50\n",
      "137/137 [==============================] - 0s 907us/step - loss: 1.3892 - val_loss: 1.4645\n",
      "Epoch 4/50\n",
      "137/137 [==============================] - 0s 839us/step - loss: 1.5014 - val_loss: 1.3148\n",
      "Epoch 5/50\n",
      "137/137 [==============================] - 0s 915us/step - loss: 1.5218 - val_loss: 1.3681\n",
      "Epoch 6/50\n",
      "137/137 [==============================] - 0s 889us/step - loss: 1.4655 - val_loss: 1.2187\n",
      "Epoch 7/50\n",
      "137/137 [==============================] - 0s 878us/step - loss: 1.3684 - val_loss: 1.1774\n",
      "Epoch 8/50\n",
      "137/137 [==============================] - 0s 921us/step - loss: 1.4821 - val_loss: 1.3156\n",
      "Epoch 9/50\n",
      "137/137 [==============================] - 0s 935us/step - loss: 1.4076 - val_loss: 1.3911\n",
      "Epoch 10/50\n",
      "137/137 [==============================] - 0s 893us/step - loss: 1.3363 - val_loss: 1.5401\n",
      "Epoch 11/50\n",
      "137/137 [==============================] - 0s 972us/step - loss: 1.3853 - val_loss: 1.1929\n",
      "Epoch 12/50\n",
      "137/137 [==============================] - 0s 850us/step - loss: 1.3888 - val_loss: 1.2307\n",
      "Epoch 13/50\n",
      "137/137 [==============================] - 0s 984us/step - loss: 1.1052 - val_loss: 1.0049\n",
      "Epoch 14/50\n",
      "137/137 [==============================] - 0s 882us/step - loss: 1.0974 - val_loss: 1.0017\n",
      "Epoch 15/50\n",
      "137/137 [==============================] - 0s 880us/step - loss: 1.1114 - val_loss: 1.0215\n",
      "Epoch 16/50\n",
      "137/137 [==============================] - 0s 999us/step - loss: 1.0501 - val_loss: 0.9079\n",
      "Epoch 17/50\n",
      "137/137 [==============================] - 0s 980us/step - loss: 0.9505 - val_loss: 0.9087\n",
      "Epoch 18/50\n",
      "137/137 [==============================] - 0s 932us/step - loss: 0.9168 - val_loss: 0.9356\n",
      "Epoch 19/50\n",
      "137/137 [==============================] - 0s 976us/step - loss: 0.9179 - val_loss: 0.8733\n",
      "Epoch 20/50\n",
      "137/137 [==============================] - 0s 1ms/step - loss: 0.8723 - val_loss: 0.8681\n",
      "Epoch 21/50\n",
      "137/137 [==============================] - 0s 994us/step - loss: 0.8583 - val_loss: 0.8463\n",
      "Epoch 22/50\n",
      "137/137 [==============================] - 0s 906us/step - loss: 0.8599 - val_loss: 0.8592\n",
      "Epoch 23/50\n",
      "137/137 [==============================] - 0s 916us/step - loss: 0.8046 - val_loss: 0.8231\n",
      "Epoch 24/50\n",
      "137/137 [==============================] - 0s 938us/step - loss: 0.8080 - val_loss: 0.8049\n",
      "Epoch 25/50\n",
      "137/137 [==============================] - 0s 885us/step - loss: 0.7668 - val_loss: 0.7803\n",
      "Epoch 26/50\n",
      "137/137 [==============================] - 0s 897us/step - loss: 0.7618 - val_loss: 0.7847\n",
      "Epoch 27/50\n",
      "137/137 [==============================] - 0s 880us/step - loss: 0.7512 - val_loss: 0.7728\n",
      "Epoch 28/50\n",
      "137/137 [==============================] - 0s 936us/step - loss: 0.7421 - val_loss: 0.7590\n",
      "Epoch 29/50\n",
      "137/137 [==============================] - 0s 890us/step - loss: 0.7208 - val_loss: 0.7517\n",
      "Epoch 30/50\n",
      "137/137 [==============================] - 0s 920us/step - loss: 0.7156 - val_loss: 0.7471\n",
      "Epoch 31/50\n",
      "137/137 [==============================] - 0s 933us/step - loss: 0.7076 - val_loss: 0.7444\n",
      "Epoch 32/50\n",
      "137/137 [==============================] - 0s 892us/step - loss: 0.7092 - val_loss: 0.7326\n",
      "Epoch 33/50\n",
      "137/137 [==============================] - 0s 882us/step - loss: 0.6948 - val_loss: 0.7321\n",
      "Epoch 34/50\n",
      "137/137 [==============================] - 0s 934us/step - loss: 0.6942 - val_loss: 0.7212\n",
      "Epoch 35/50\n",
      "137/137 [==============================] - 0s 908us/step - loss: 0.6905 - val_loss: 0.7175\n",
      "Epoch 36/50\n",
      "137/137 [==============================] - 0s 965us/step - loss: 0.6877 - val_loss: 0.7128\n",
      "Epoch 37/50\n",
      "137/137 [==============================] - 0s 910us/step - loss: 0.6881 - val_loss: 0.7147\n",
      "Epoch 38/50\n",
      "137/137 [==============================] - 0s 924us/step - loss: 0.6886 - val_loss: 0.7089\n",
      "Epoch 39/50\n",
      "137/137 [==============================] - 0s 854us/step - loss: 0.6835 - val_loss: 0.7086\n",
      "Epoch 40/50\n",
      "137/137 [==============================] - 0s 896us/step - loss: 0.6816 - val_loss: 0.7086\n",
      "Epoch 41/50\n",
      "137/137 [==============================] - 0s 860us/step - loss: 0.6792 - val_loss: 0.7068\n",
      "Epoch 42/50\n",
      "137/137 [==============================] - 0s 894us/step - loss: 0.6769 - val_loss: 0.7075\n",
      "Epoch 43/50\n",
      "137/137 [==============================] - 0s 859us/step - loss: 0.6782 - val_loss: 0.7072\n",
      "Epoch 44/50\n",
      "137/137 [==============================] - 0s 960us/step - loss: 0.6757 - val_loss: 0.7071\n",
      "Epoch 45/50\n",
      "137/137 [==============================] - 0s 917us/step - loss: 0.6750 - val_loss: 0.7067\n",
      "Epoch 46/50\n",
      "137/137 [==============================] - 0s 922us/step - loss: 0.6732 - val_loss: 0.7066\n",
      "Epoch 47/50\n",
      "137/137 [==============================] - 0s 898us/step - loss: 0.6743 - val_loss: 0.7061\n",
      "Epoch 48/50\n",
      "137/137 [==============================] - 0s 899us/step - loss: 0.6719 - val_loss: 0.7053\n",
      "Epoch 49/50\n",
      "137/137 [==============================] - 0s 944us/step - loss: 0.6712 - val_loss: 0.7044\n",
      "Epoch 50/50\n",
      "137/137 [==============================] - 0s 906us/step - loss: 0.6703 - val_loss: 0.7049\n"
     ]
    }
   ],
   "source": [
    "history = model.fit(\n",
    "    x=x_train,\n",
    "    y=y_train,\n",
    "    batch_size=64,\n",
    "    epochs=50,\n",
    "    verbose=1,\n",
    "    validation_data=(x_val, y_val),\n",
    ")"
   ]
  },
  {
   "cell_type": "code",
   "execution_count": 9,
   "metadata": {},
   "outputs": [
    {
     "data": {
      "image/png": "[encoded data removed]",
      "text/plain": [
       "<Figure size 432x288 with 1 Axes>"
      ]
     },
     "metadata": {},
     "output_type": "display_data"
    }
   ],
   "source": [
    "plt.plot(history.history[\"loss\"])\n",
    "plt.plot(history.history[\"val_loss\"])\n",
    "plt.title(\"model loss\")\n",
    "plt.ylabel(\"loss\")\n",
    "plt.xlabel(\"epoch\")\n",
    "plt.legend([\"train\", \"test\"], loc=\"upper right\");"
   ]
  },
  {
   "cell_type": "markdown",
   "metadata": {},
   "source": [
    "## Recommendations"
   ]
  },
  {
   "cell_type": "code",
   "execution_count": null,
   "metadata": {},
   "outputs": [],
   "source": [
    "attendee_id = df.attendee_id.sample(1).iloc[0]\n",
    "types_purchased_by_user = df[df.userId == user_id]\n",
    "types_not_purchased = movie_df[\n",
    "    ~movie_df[\"movieId\"].isin(movies_watched_by_user.movieId.values)\n",
    "][\"movieId\"]\n",
    "movies_not_watched = list(\n",
    "    set(movies_not_watched).intersection(set(movie2movie_encoded.keys()))\n",
    ")\n",
    "movies_not_watched = [[movie2movie_encoded.get(x)] for x in movies_not_watched]\n",
    "user_encoder = user2user_encoded.get(user_id)\n",
    "user_movie_array = np.hstack(\n",
    "    ([[user_encoder]] * len(movies_not_watched), movies_not_watched)\n",
    ")\n",
    "ratings = model.predict(user_movie_array).flatten()\n",
    "top_ratings_indices = ratings.argsort()[-10:][::-1]\n",
    "recommended_movie_ids = [\n",
    "    movie_encoded2movie.get(movies_not_watched[x][0]) for x in top_ratings_indices\n",
    "]\n",
    "\n",
    "print(\"Showing recommendations for user: {}\".format(user_id))\n",
    "print(\"====\" * 9)\n",
    "print(\"Movies with high ratings from user\")\n",
    "print(\"----\" * 8)\n",
    "top_movies_user = (\n",
    "    movies_watched_by_user.sort_values(by=\"rating\", ascending=False)\n",
    "    .head(5)\n",
    "    .movieId.values\n",
    ")\n",
    "movie_df_rows = movie_df[movie_df[\"movieId\"].isin(top_movies_user)]\n",
    "for row in movie_df_rows.itertuples():\n",
    "    print(row.title, \":\", row.genres)\n",
    "\n",
    "print(\"----\" * 8)\n",
    "print(\"Top 10 movie recommendations\")\n",
    "print(\"----\" * 8)\n",
    "recommended_movies = movie_df[movie_df[\"movieId\"].isin(recommended_movie_ids)]\n",
    "for row in recommended_movies.itertuples():\n",
    "    print(row.title, \":\", row.genres)"
   ]
  }
 ],
 "metadata": {
  "kernelspec": {
   "display_name": "Python 3",
   "language": "python",
   "name": "python3"
  },
  "language_info": {
   "codemirror_mode": {
    "name": "ipython",
    "version": 3
   },
   "file_extension": ".py",
   "mimetype": "text/x-python",
   "name": "python",
   "nbconvert_exporter": "python",
   "pygments_lexer": "ipython3",
   "version": "3.8.5"
  }
 },
 "nbformat": 4,
 "nbformat_minor": 4
}
