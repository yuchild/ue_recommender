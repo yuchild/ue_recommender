{
 "cells": [
  {
   "cell_type": "code",
   "execution_count": 1,
   "metadata": {},
   "outputs": [],
   "source": [
    "\"\"\"\n",
    "\n",
    "Your new task will be to use this dataset and use \n",
    "attendee_id, event_id and purchase_quad as the feature columns and \n",
    "predict or recommend the the purchase_type based on your learning \n",
    "of my sent recommendation engine internet site link.\n",
    "\n",
    "And, do lot of statistical analysis, visualization and some \n",
    "correlation check before do the recommendation or prediction \n",
    "model train. So, that purpose of prediction and feature dataset \n",
    "exploratory analysis done to do insight into dataset columns.\n",
    "\n",
    "Attendee id is list of ids of unique attendees in the event, \n",
    "event_id is event type id, purchase_quad is time of event \n",
    "duration time divided into 4 quadrant and purchase_type is \n",
    "type of purchase done by the buyer.\n",
    "\n",
    "Code Example:\n",
    "https://keras.io/examples/structured_data/collaborative_filtering_movielens/\n",
    "\n",
    "\"\"\"\n",
    "\n",
    "import pandas as pd\n",
    "import numpy as np\n",
    "import matplotlib.pyplot as plt\n",
    "plt.style.use('fivethirtyeight')\n",
    "import seaborn as sns\n",
    "\n",
    "import tensorflow as tf\n",
    "from tensorflow import keras\n",
    "from tensorflow.keras import layers"
   ]
  },
  {
   "cell_type": "code",
   "execution_count": 2,
   "metadata": {},
   "outputs": [
    {
     "data": {
      "text/html": [
       "<div>\n",
       "<style scoped>\n",
       "    .dataframe tbody tr th:only-of-type {\n",
       "        vertical-align: middle;\n",
       "    }\n",
       "\n",
       "    .dataframe tbody tr th {\n",
       "        vertical-align: top;\n",
       "    }\n",
       "\n",
       "    .dataframe thead th {\n",
       "        text-align: right;\n",
       "    }\n",
       "</style>\n",
       "<table border=\"1\" class=\"dataframe\">\n",
       "  <thead>\n",
       "    <tr style=\"text-align: right;\">\n",
       "      <th></th>\n",
       "      <th>event_id</th>\n",
       "      <th>attendee_id</th>\n",
       "      <th>order_id</th>\n",
       "      <th>purchase_quad</th>\n",
       "      <th>purchase_type</th>\n",
       "    </tr>\n",
       "  </thead>\n",
       "  <tbody>\n",
       "    <tr>\n",
       "      <th>0</th>\n",
       "      <td>1</td>\n",
       "      <td>342606</td>\n",
       "      <td>3786</td>\n",
       "      <td>2</td>\n",
       "      <td>2</td>\n",
       "    </tr>\n",
       "    <tr>\n",
       "      <th>1</th>\n",
       "      <td>1</td>\n",
       "      <td>342606</td>\n",
       "      <td>3786</td>\n",
       "      <td>3</td>\n",
       "      <td>2</td>\n",
       "    </tr>\n",
       "    <tr>\n",
       "      <th>2</th>\n",
       "      <td>1</td>\n",
       "      <td>342606</td>\n",
       "      <td>3786</td>\n",
       "      <td>4</td>\n",
       "      <td>0</td>\n",
       "    </tr>\n",
       "    <tr>\n",
       "      <th>3</th>\n",
       "      <td>1</td>\n",
       "      <td>342606</td>\n",
       "      <td>3786</td>\n",
       "      <td>1</td>\n",
       "      <td>0</td>\n",
       "    </tr>\n",
       "    <tr>\n",
       "      <th>4</th>\n",
       "      <td>1</td>\n",
       "      <td>342606</td>\n",
       "      <td>3786</td>\n",
       "      <td>3</td>\n",
       "      <td>0</td>\n",
       "    </tr>\n",
       "  </tbody>\n",
       "</table>\n",
       "</div>"
      ],
      "text/plain": [
       "   event_id  attendee_id  order_id  purchase_quad  purchase_type\n",
       "0         1       342606      3786              2              2\n",
       "1         1       342606      3786              3              2\n",
       "2         1       342606      3786              4              0\n",
       "3         1       342606      3786              1              0\n",
       "4         1       342606      3786              3              0"
      ]
     },
     "execution_count": 2,
     "metadata": {},
     "output_type": "execute_result"
    }
   ],
   "source": [
    "df = pd.read_csv('./data/event_1_transactions.csv'\n",
    "                 , index_col = 0\n",
    "                )\n",
    "df.head()"
   ]
  },
  {
   "cell_type": "markdown",
   "metadata": {},
   "source": [
    "## NN Recommender Model"
   ]
  },
  {
   "cell_type": "code",
   "execution_count": 3,
   "metadata": {},
   "outputs": [
    {
     "name": "stdout",
     "output_type": "stream",
     "text": [
      "Number of Attendees: 1996, Number of Purchase Types: 3, Min Quad: 1.0, Max Quad: 4.0\n"
     ]
    }
   ],
   "source": [
    "attendee_ids = df[\"attendee_id\"].unique().tolist()\n",
    "a2a_encoded = {x: i for i, x in enumerate(attendee_ids)}\n",
    "a_encoded2a = {i: x for i, x in enumerate(attendee_ids)}\n",
    "\n",
    "type_ids = df[\"purchase_type\"].unique().tolist()\n",
    "type2type_encoded = {x: i for i, x in enumerate(type_ids)}\n",
    "type_encoded2type = {i: x for i, x in enumerate(type_ids)}\n",
    "\n",
    "df[\"attendee\"] = df[\"attendee_id\"].map(a2a_encoded)\n",
    "df[\"type\"] = df[\"purchase_type\"].map(type2type_encoded)\n",
    "\n",
    "num_attendee = len(a2a_encoded)\n",
    "num_type = len(type_encoded2type)\n",
    "\n",
    "df[\"purchase_quad\"] = df[\"purchase_quad\"].values.astype(np.float32)\n",
    "# min and max quads will be used to normalize the ratings later\n",
    "min_quad = min(df[\"purchase_quad\"])\n",
    "max_quad = max(df[\"purchase_quad\"])\n",
    "\n",
    "print(\n",
    "    \"Number of Attendees: {}, Number of Purchase Types: {}, Min Quad: {}, Max Quad: {}\".format(\n",
    "        num_attendee, num_type, min_quad, max_quad\n",
    "    )\n",
    ")"
   ]
  },
  {
   "cell_type": "code",
   "execution_count": 4,
   "metadata": {},
   "outputs": [],
   "source": [
    "df = df.sample(frac=1, random_state=42)\n",
    "x = df[[\"attendee\", \"type\"]].values\n",
    "# Normalize the targets between 0 and 1. Makes it easy to train.\n",
    "y = df[\"purchase_quad\"].apply(lambda x: (x - min_quad) / (max_quad - min_quad)).values\n",
    "# Assuming training on 90% of the data and validating on 10%.\n",
    "train_indices = int(0.9 * df.shape[0])\n",
    "x_train, x_val, y_train, y_val = (\n",
    "    x[:train_indices],\n",
    "    x[train_indices:],\n",
    "    y[:train_indices],\n",
    "    y[train_indices:],\n",
    ")"
   ]
  },
  {
   "cell_type": "code",
   "execution_count": 5,
   "metadata": {},
   "outputs": [
    {
     "data": {
      "text/plain": [
       "(array([1795,    2]), 0.6666666666666666)"
      ]
     },
     "execution_count": 5,
     "metadata": {},
     "output_type": "execute_result"
    }
   ],
   "source": [
    "x[0], y[0]"
   ]
  },
  {
   "cell_type": "markdown",
   "metadata": {},
   "source": [
    "## NN Recommender Class"
   ]
  },
  {
   "cell_type": "code",
   "execution_count": 6,
   "metadata": {},
   "outputs": [],
   "source": [
    "EMBEDDING_SIZE = 50\n",
    "\n",
    "\n",
    "class RecommenderNet(keras.Model):\n",
    "    def __init__(self, num_attendee, num_type, embedding_size, **kwargs):\n",
    "        super(RecommenderNet, self).__init__(**kwargs)\n",
    "        self.num_attendee = num_attendee\n",
    "        self.num_type = num_type\n",
    "        self.embedding_size = embedding_size\n",
    "        self.attendee_embedding = layers.Embedding(\n",
    "            num_attendee,\n",
    "            embedding_size,\n",
    "            embeddings_initializer=\"he_normal\",\n",
    "            embeddings_regularizer=keras.regularizers.l2(1e-6),\n",
    "        )\n",
    "        self.attendee_bias = layers.Embedding(num_attendee, 1)\n",
    "        self.type_embedding = layers.Embedding(\n",
    "            num_type,\n",
    "            embedding_size,\n",
    "            embeddings_initializer=\"he_normal\",\n",
    "            embeddings_regularizer=keras.regularizers.l2(1e-6),\n",
    "        )\n",
    "        self.type_bias = layers.Embedding(num_type, 1)\n",
    "\n",
    "    def call(self, inputs):\n",
    "        attendee_vector = self.attendee_embedding(inputs[:, 0])\n",
    "        attendee_bias = self.attendee_bias(inputs[:, 0])\n",
    "        type_vector = self.type_embedding(inputs[:, 1])\n",
    "        type_bias = self.type_bias(inputs[:, 1])\n",
    "        dot_attendee_type = tf.tensordot(attendee_vector, type_vector, 2)\n",
    "        # Add all the components (including bias)\n",
    "        x = dot_attendee_type + attendee_bias + type_bias\n",
    "        # The sigmoid activation forces the rating to between 0 and 1\n",
    "        return tf.nn.sigmoid(x)"
   ]
  },
  {
   "cell_type": "code",
   "execution_count": 7,
   "metadata": {},
   "outputs": [],
   "source": [
    "model = RecommenderNet(num_attendee, num_type, EMBEDDING_SIZE)\n",
    "model.compile(\n",
    "    loss=tf.keras.losses.BinaryCrossentropy(), optimizer=keras.optimizers.Adam(lr=0.001)\n",
    ")"
   ]
  },
  {
   "cell_type": "code",
   "execution_count": 8,
   "metadata": {
    "scrolled": true
   },
   "outputs": [
    {
     "name": "stdout",
     "output_type": "stream",
     "text": [
      "Epoch 1/50\n",
      "137/137 [==============================] - 0s 3ms/step - loss: 0.9449 - val_loss: 1.3248\n",
      "Epoch 2/50\n",
      "137/137 [==============================] - 0s 2ms/step - loss: 1.1717 - val_loss: 1.1633\n",
      "Epoch 3/50\n",
      "137/137 [==============================] - 0s 2ms/step - loss: 1.3871 - val_loss: 1.4053\n",
      "Epoch 4/50\n",
      "137/137 [==============================] - 0s 2ms/step - loss: 1.3886 - val_loss: 1.7651\n",
      "Epoch 5/50\n",
      "137/137 [==============================] - 0s 2ms/step - loss: 1.5621 - val_loss: 1.5890\n",
      "Epoch 6/50\n",
      "137/137 [==============================] - 0s 2ms/step - loss: 1.4402 - val_loss: 1.4773\n",
      "Epoch 7/50\n",
      "137/137 [==============================] - 0s 2ms/step - loss: 1.4618 - val_loss: 1.2706\n",
      "Epoch 8/50\n",
      "137/137 [==============================] - 0s 2ms/step - loss: 1.3947 - val_loss: 1.2814\n",
      "Epoch 9/50\n",
      "137/137 [==============================] - 0s 2ms/step - loss: 1.4242 - val_loss: 1.1992\n",
      "Epoch 10/50\n",
      "137/137 [==============================] - 0s 2ms/step - loss: 1.3732 - val_loss: 1.2363\n",
      "Epoch 11/50\n",
      "137/137 [==============================] - 0s 2ms/step - loss: 1.4058 - val_loss: 1.1814\n",
      "Epoch 12/50\n",
      "137/137 [==============================] - 0s 1ms/step - loss: 1.2066 - val_loss: 1.1010\n",
      "Epoch 13/50\n",
      "137/137 [==============================] - 0s 2ms/step - loss: 1.1816 - val_loss: 0.9776\n",
      "Epoch 14/50\n",
      "137/137 [==============================] - 0s 1ms/step - loss: 1.0843 - val_loss: 0.9260\n",
      "Epoch 15/50\n",
      "137/137 [==============================] - 0s 1ms/step - loss: 1.0377 - val_loss: 0.8412\n",
      "Epoch 16/50\n",
      "137/137 [==============================] - 0s 1ms/step - loss: 1.0212 - val_loss: 0.8540\n",
      "Epoch 17/50\n",
      "137/137 [==============================] - 0s 2ms/step - loss: 0.9952 - val_loss: 0.8326\n",
      "Epoch 18/50\n",
      "137/137 [==============================] - 0s 2ms/step - loss: 0.9208 - val_loss: 0.8266\n",
      "Epoch 19/50\n",
      "137/137 [==============================] - 0s 2ms/step - loss: 0.8672 - val_loss: 0.8049\n",
      "Epoch 20/50\n",
      "137/137 [==============================] - 0s 1ms/step - loss: 0.9180 - val_loss: 0.7718\n",
      "Epoch 21/50\n",
      "137/137 [==============================] - 0s 1ms/step - loss: 0.8420 - val_loss: 0.7667\n",
      "Epoch 22/50\n",
      "137/137 [==============================] - 0s 1ms/step - loss: 0.7997 - val_loss: 0.7688\n",
      "Epoch 23/50\n",
      "137/137 [==============================] - 0s 2ms/step - loss: 0.8182 - val_loss: 0.7553\n",
      "Epoch 24/50\n",
      "137/137 [==============================] - 0s 2ms/step - loss: 0.7815 - val_loss: 0.7463\n",
      "Epoch 25/50\n",
      "137/137 [==============================] - 0s 1ms/step - loss: 0.7857 - val_loss: 0.7469\n",
      "Epoch 26/50\n",
      "137/137 [==============================] - 0s 1ms/step - loss: 0.7494 - val_loss: 0.7375\n",
      "Epoch 27/50\n",
      "137/137 [==============================] - 0s 1ms/step - loss: 0.7448 - val_loss: 0.7296\n",
      "Epoch 28/50\n",
      "137/137 [==============================] - 0s 1ms/step - loss: 0.7354 - val_loss: 0.7324\n",
      "Epoch 29/50\n",
      "137/137 [==============================] - 0s 1ms/step - loss: 0.7339 - val_loss: 0.7254\n",
      "Epoch 30/50\n",
      "137/137 [==============================] - 0s 1ms/step - loss: 0.7151 - val_loss: 0.7199\n",
      "Epoch 31/50\n",
      "137/137 [==============================] - 0s 1ms/step - loss: 0.7188 - val_loss: 0.7172\n",
      "Epoch 32/50\n",
      "137/137 [==============================] - 0s 1ms/step - loss: 0.6985 - val_loss: 0.7167\n",
      "Epoch 33/50\n",
      "137/137 [==============================] - 0s 2ms/step - loss: 0.7007 - val_loss: 0.7176\n",
      "Epoch 34/50\n",
      "137/137 [==============================] - 0s 1ms/step - loss: 0.6959 - val_loss: 0.7131\n",
      "Epoch 35/50\n",
      "137/137 [==============================] - 0s 1ms/step - loss: 0.6923 - val_loss: 0.7109\n",
      "Epoch 36/50\n",
      "137/137 [==============================] - 0s 1ms/step - loss: 0.6926 - val_loss: 0.7077\n",
      "Epoch 37/50\n",
      "137/137 [==============================] - 0s 2ms/step - loss: 0.6916 - val_loss: 0.7054\n",
      "Epoch 38/50\n",
      "137/137 [==============================] - 0s 1ms/step - loss: 0.6861 - val_loss: 0.7029\n",
      "Epoch 39/50\n",
      "137/137 [==============================] - 0s 2ms/step - loss: 0.6850 - val_loss: 0.7028\n",
      "Epoch 40/50\n",
      "137/137 [==============================] - 0s 2ms/step - loss: 0.6822 - val_loss: 0.7030\n",
      "Epoch 41/50\n",
      "137/137 [==============================] - 0s 2ms/step - loss: 0.6819 - val_loss: 0.7021\n",
      "Epoch 42/50\n",
      "137/137 [==============================] - 0s 2ms/step - loss: 0.6792 - val_loss: 0.7027\n",
      "Epoch 43/50\n",
      "137/137 [==============================] - 0s 1ms/step - loss: 0.6787 - val_loss: 0.7038\n",
      "Epoch 44/50\n",
      "137/137 [==============================] - 0s 1ms/step - loss: 0.6768 - val_loss: 0.7032\n",
      "Epoch 45/50\n",
      "137/137 [==============================] - 0s 1ms/step - loss: 0.6760 - val_loss: 0.7037\n",
      "Epoch 46/50\n",
      "137/137 [==============================] - 0s 1ms/step - loss: 0.6752 - val_loss: 0.7046\n",
      "Epoch 47/50\n",
      "137/137 [==============================] - 0s 2ms/step - loss: 0.6734 - val_loss: 0.7064\n",
      "Epoch 48/50\n",
      "137/137 [==============================] - 0s 2ms/step - loss: 0.6734 - val_loss: 0.7054\n",
      "Epoch 49/50\n",
      "137/137 [==============================] - 0s 2ms/step - loss: 0.6729 - val_loss: 0.7063\n",
      "Epoch 50/50\n",
      "137/137 [==============================] - 0s 1ms/step - loss: 0.6704 - val_loss: 0.7060\n"
     ]
    }
   ],
   "source": [
    "history = model.fit(\n",
    "    x=x_train,\n",
    "    y=y_train,\n",
    "    batch_size=64,\n",
    "    epochs=50,\n",
    "    verbose=1,\n",
    "    validation_data=(x_val, y_val),\n",
    ")"
   ]
  },
  {
   "cell_type": "code",
   "execution_count": 9,
   "metadata": {},
   "outputs": [
    {
     "data": {
      "image/png": "[encoded data removed]",
      "text/plain": [
       "<Figure size 432x288 with 1 Axes>"
      ]
     },
     "metadata": {},
     "output_type": "display_data"
    }
   ],
   "source": [
    "plt.plot(history.history[\"loss\"])\n",
    "plt.plot(history.history[\"val_loss\"])\n",
    "plt.title(\"model loss\")\n",
    "plt.ylabel(\"loss\")\n",
    "plt.xlabel(\"epoch\")\n",
    "plt.legend([\"train\", \"test\"], loc=\"upper right\");"
   ]
  },
  {
   "cell_type": "markdown",
   "metadata": {},
   "source": [
    "## Recommendations"
   ]
  },
  {
   "cell_type": "code",
   "execution_count": 10,
   "metadata": {},
   "outputs": [
    {
     "data": {
      "text/plain": [
       "238699"
      ]
     },
     "execution_count": 10,
     "metadata": {},
     "output_type": "execute_result"
    }
   ],
   "source": [
    "attendee_id = df.attendee_id.sample(1).iloc[0]\n",
    "attendee_id"
   ]
  },
  {
   "cell_type": "code",
   "execution_count": 11,
   "metadata": {},
   "outputs": [
    {
     "data": {
      "text/html": [
       "<div>\n",
       "<style scoped>\n",
       "    .dataframe tbody tr th:only-of-type {\n",
       "        vertical-align: middle;\n",
       "    }\n",
       "\n",
       "    .dataframe tbody tr th {\n",
       "        vertical-align: top;\n",
       "    }\n",
       "\n",
       "    .dataframe thead th {\n",
       "        text-align: right;\n",
       "    }\n",
       "</style>\n",
       "<table border=\"1\" class=\"dataframe\">\n",
       "  <thead>\n",
       "    <tr style=\"text-align: right;\">\n",
       "      <th></th>\n",
       "      <th>event_id</th>\n",
       "      <th>attendee_id</th>\n",
       "      <th>order_id</th>\n",
       "      <th>purchase_quad</th>\n",
       "      <th>purchase_type</th>\n",
       "      <th>attendee</th>\n",
       "      <th>type</th>\n",
       "    </tr>\n",
       "  </thead>\n",
       "  <tbody>\n",
       "    <tr>\n",
       "      <th>8400</th>\n",
       "      <td>1</td>\n",
       "      <td>238699</td>\n",
       "      <td>3328</td>\n",
       "      <td>3.0</td>\n",
       "      <td>0</td>\n",
       "      <td>1738</td>\n",
       "      <td>1</td>\n",
       "    </tr>\n",
       "    <tr>\n",
       "      <th>8402</th>\n",
       "      <td>1</td>\n",
       "      <td>238699</td>\n",
       "      <td>3328</td>\n",
       "      <td>1.0</td>\n",
       "      <td>1</td>\n",
       "      <td>1738</td>\n",
       "      <td>2</td>\n",
       "    </tr>\n",
       "    <tr>\n",
       "      <th>8401</th>\n",
       "      <td>1</td>\n",
       "      <td>238699</td>\n",
       "      <td>3328</td>\n",
       "      <td>2.0</td>\n",
       "      <td>0</td>\n",
       "      <td>1738</td>\n",
       "      <td>1</td>\n",
       "    </tr>\n",
       "  </tbody>\n",
       "</table>\n",
       "</div>"
      ],
      "text/plain": [
       "      event_id  attendee_id  order_id  purchase_quad  purchase_type  attendee  \\\n",
       "8400         1       238699      3328            3.0              0      1738   \n",
       "8402         1       238699      3328            1.0              1      1738   \n",
       "8401         1       238699      3328            2.0              0      1738   \n",
       "\n",
       "      type  \n",
       "8400     1  \n",
       "8402     2  \n",
       "8401     1  "
      ]
     },
     "execution_count": 11,
     "metadata": {},
     "output_type": "execute_result"
    }
   ],
   "source": [
    "types_purchased_by_user = df[df.attendee_id == attendee_id]\n",
    "types_purchased_by_user"
   ]
  },
  {
   "cell_type": "code",
   "execution_count": 12,
   "metadata": {},
   "outputs": [
    {
     "data": {
      "text/plain": [
       "4464    0\n",
       "2678    0\n",
       "4352    0\n",
       "7945    0\n",
       "6422    0\n",
       "       ..\n",
       "4859    0\n",
       "6439    0\n",
       "3943    0\n",
       "3556    0\n",
       "8322    0\n",
       "Name: type, Length: 968, dtype: int64"
      ]
     },
     "execution_count": 12,
     "metadata": {},
     "output_type": "execute_result"
    }
   ],
   "source": [
    "types_not_purchased = df[\n",
    "    ~df[\"type\"].isin(types_purchased_by_user.type.values)\n",
    "][\"type\"]\n",
    "types_not_purchased"
   ]
  },
  {
   "cell_type": "code",
   "execution_count": 13,
   "metadata": {},
   "outputs": [
    {
     "data": {
      "text/plain": [
       "[0]"
      ]
     },
     "execution_count": 13,
     "metadata": {},
     "output_type": "execute_result"
    }
   ],
   "source": [
    "types_not_purchased = list(\n",
    "    set(types_not_purchased).intersection(set(type2type_encoded.keys()))\n",
    ")\n",
    "types_not_purchased"
   ]
  },
  {
   "cell_type": "code",
   "execution_count": 14,
   "metadata": {},
   "outputs": [
    {
     "data": {
      "text/plain": [
       "[[1]]"
      ]
     },
     "execution_count": 14,
     "metadata": {},
     "output_type": "execute_result"
    }
   ],
   "source": [
    "types_not_purchased = [[type2type_encoded.get(x)] for x in types_not_purchased]\n",
    "types_not_purchased"
   ]
  },
  {
   "cell_type": "code",
   "execution_count": 15,
   "metadata": {},
   "outputs": [
    {
     "data": {
      "text/plain": [
       "1738"
      ]
     },
     "execution_count": 15,
     "metadata": {},
     "output_type": "execute_result"
    }
   ],
   "source": [
    "attendee_encoder = a2a_encoded.get(attendee_id)\n",
    "attendee_encoder"
   ]
  },
  {
   "cell_type": "code",
   "execution_count": 16,
   "metadata": {},
   "outputs": [
    {
     "data": {
      "text/plain": [
       "array([[1738,    1]])"
      ]
     },
     "execution_count": 16,
     "metadata": {},
     "output_type": "execute_result"
    }
   ],
   "source": [
    "attendee_type_array = np.hstack(\n",
    "    ([[attendee_encoder]] * len(types_not_purchased), types_not_purchased)\n",
    ")\n",
    "attendee_type_array"
   ]
  },
  {
   "cell_type": "code",
   "execution_count": 17,
   "metadata": {},
   "outputs": [
    {
     "data": {
      "text/plain": [
       "array([0.4101081], dtype=float32)"
      ]
     },
     "execution_count": 17,
     "metadata": {},
     "output_type": "execute_result"
    }
   ],
   "source": [
    "ratings = model.predict(attendee_type_array).flatten()\n",
    "ratings"
   ]
  },
  {
   "cell_type": "code",
   "execution_count": 18,
   "metadata": {},
   "outputs": [
    {
     "data": {
      "text/plain": [
       "array([0])"
      ]
     },
     "execution_count": 18,
     "metadata": {},
     "output_type": "execute_result"
    }
   ],
   "source": [
    "top_quad_indices = ratings.argsort()[-3:][::-1]\n",
    "top_quad_indices"
   ]
  },
  {
   "cell_type": "code",
   "execution_count": 19,
   "metadata": {},
   "outputs": [
    {
     "data": {
      "text/plain": [
       "[0]"
      ]
     },
     "execution_count": 19,
     "metadata": {},
     "output_type": "execute_result"
    }
   ],
   "source": [
    "recommended_type_ids = [\n",
    "    type_encoded2type.get(types_not_purchased[x][0]) for x in top_quad_indices\n",
    "]\n",
    "recommended_type_ids"
   ]
  },
  {
   "cell_type": "code",
   "execution_count": null,
   "metadata": {},
   "outputs": [],
   "source": []
  },
  {
   "cell_type": "code",
   "execution_count": null,
   "metadata": {},
   "outputs": [],
   "source": []
  },
  {
   "cell_type": "code",
   "execution_count": null,
   "metadata": {},
   "outputs": [],
   "source": []
  },
  {
   "cell_type": "code",
   "execution_count": null,
   "metadata": {},
   "outputs": [],
   "source": []
  }
 ],
 "metadata": {
  "kernelspec": {
   "display_name": "Python 3",
   "language": "python",
   "name": "python3"
  },
  "language_info": {
   "codemirror_mode": {
    "name": "ipython",
    "version": 3
   },
   "file_extension": ".py",
   "mimetype": "text/x-python",
   "name": "python",
   "nbconvert_exporter": "python",
   "pygments_lexer": "ipython3",
   "version": "3.8.5"
  }
 },
 "nbformat": 4,
 "nbformat_minor": 4
}
