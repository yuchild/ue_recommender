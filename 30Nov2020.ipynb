{
 "cells": [
  {
   "cell_type": "code",
   "execution_count": 1,
   "metadata": {},
   "outputs": [],
   "source": [
    "\"\"\"\n",
    "There are six files in all: train.csv, test.csv, users.csv, \n",
    "user_friends.csv, events.csv, and event_attendees.csv.\n",
    "\n",
    "train.csv has six columns:  user, event, invited, timestamp, \n",
    "interested, and not_interested.  Test.csv contains the same \n",
    "columns as train.csv, except for interested and not_interested. \n",
    "Each row corresponds to an event that was shown to a user in \n",
    "our application.  event is an id identifying an event in a our system.  \n",
    "user is an id representing a user in our system.  invited is a \n",
    "binary variable indicated whether the user has been invited to \n",
    "the event. timestamp is a ISO-8601 UTC time string representing \n",
    "the approximate time (+/- 2 hours) when the user saw the event in \n",
    "our application. interested is a binary variable indicating whether \n",
    "a user clicked on the \"Interested\" button for this event; it is 1 \n",
    "if the user clicked Interested and 0 if the user did not click the \n",
    "button.  Similarly, not_interested is a binary variable indicating \n",
    "whether a user clicked on the \"Not Interested\" button for this event; \n",
    "it is 1 if the user clicked the button and 0 if not.  It is possible \n",
    "that the user saw an event and clicked neither Interested nor Not \n",
    "Interested, and hence there are rows that contain 0,0 as values for \n",
    "interested,not_interested.\n",
    "\n",
    "users.csv contains demographic data about our some of our users \n",
    "(including all of the users appearing in the train and test files), \n",
    "and it has the following columns: user_id, locale, birthyear, \n",
    "gender, joinedAt, location, and timezone. user_id is the id of \n",
    "the user in our system.  locale is a string representing the \n",
    "user's locale, which should be of the form language_territory. \n",
    "birthyear is a 4-digit integer representing the year when the user \n",
    "was born. gender is either male or female, depending on the user's \n",
    "gender.  joinedAt is an ISO-8601 UTC time string representing when \n",
    "the user first used our application.  location is a string \n",
    "representing the user's location (if known).  timezone is a \n",
    "signed integer representing the user's UTC offset (in minutes).\n",
    "\n",
    "user_friends.csv contains social data about this user, and contains \n",
    "two columns:  user and friends.  user is the user's id in our system, \n",
    "and friends is a space-delimited list of the user's friends' ids.\n",
    "\n",
    "events.csv contains data about events in our system, and has 110 \n",
    "columns.  The first nine columns are event_id, user_id, start_time, \n",
    "city, state, zip, country, lat, and lng.  event_id is the id of \n",
    "the event, and user_id is the id of the user who created the event.  \n",
    "city, state, zip, and country represent more details about the \n",
    "location of the venue (if known).  lat and lng are floats \n",
    "representing the latitude and longitude coordinates of the venue, \n",
    "rounded to three decimal places.  start_time is the ISO-8601 UTC \n",
    "time string representing when the event is scheduled to begin.  \n",
    "The last 101 columns require a bit more explanation; first, we \n",
    "determined the 100 most common word stems (obtained via Porter \n",
    "Stemming) occuring in the name or description of a large random \n",
    "subset of our events.  The last 101 columns are count_1, count_2, \n",
    "..., count_100, count_other, where count_N is an integer representing \n",
    "the number of times the Nth most common word stem appears in the \n",
    "name or description of this event.  count_other is a count of the \n",
    "rest of the words whose stem wasn't one of the 100 most common stems.\n",
    "\n",
    "event_attendees.csv contains information about which users attended \n",
    "various events, and has the following columns: event_id, yes, maybe, \n",
    "invited, and no. event_id identifies the event. yes, maybe, invited, \n",
    "and no are space-delimited lists of user id's representing users who \n",
    "indicated that they were going, maybe going, invited to, or not going \n",
    "to the event.\n",
    "\"\"\"\n",
    "\n",
    "import pandas as pd\n",
    "import numpy as np\n",
    "import matplotlib.pyplot as plt\n",
    "plt.style.use('fivethirtyeight')"
   ]
  },
  {
   "cell_type": "code",
   "execution_count": 2,
   "metadata": {},
   "outputs": [],
   "source": [
    "train_df = pd.read_csv('./data/30Nov2020/train.csv')\n",
    "test_df = pd.read_csv('./data/30Nov2020/test.csv')\n",
    "users_df = pd.read_csv('./data/30Nov2020/users.csv')\n",
    "user_friends_df = pd.read_csv('./data/30Nov2020/user_friends.csv')\n",
    "events_df = pd.read_csv('./data/30Nov2020/events.csv')\n",
    "event_attendees_df = pd.read_csv('./data/30Nov2020/event_attendees.csv')"
   ]
  },
  {
   "cell_type": "code",
   "execution_count": 3,
   "metadata": {},
   "outputs": [
    {
     "data": {
      "text/html": [
       "<div>\n",
       "<style scoped>\n",
       "    .dataframe tbody tr th:only-of-type {\n",
       "        vertical-align: middle;\n",
       "    }\n",
       "\n",
       "    .dataframe tbody tr th {\n",
       "        vertical-align: top;\n",
       "    }\n",
       "\n",
       "    .dataframe thead th {\n",
       "        text-align: right;\n",
       "    }\n",
       "</style>\n",
       "<table border=\"1\" class=\"dataframe\">\n",
       "  <thead>\n",
       "    <tr style=\"text-align: right;\">\n",
       "      <th></th>\n",
       "      <th>user</th>\n",
       "      <th>event</th>\n",
       "      <th>invited</th>\n",
       "      <th>timestamp</th>\n",
       "      <th>interested</th>\n",
       "      <th>not_interested</th>\n",
       "    </tr>\n",
       "  </thead>\n",
       "  <tbody>\n",
       "    <tr>\n",
       "      <th>10436</th>\n",
       "      <td>3005728385</td>\n",
       "      <td>4066934337</td>\n",
       "      <td>0</td>\n",
       "      <td>2012-11-28 04:36:46.719000+00:00</td>\n",
       "      <td>0</td>\n",
       "      <td>0</td>\n",
       "    </tr>\n",
       "    <tr>\n",
       "      <th>11742</th>\n",
       "      <td>3338812734</td>\n",
       "      <td>2321179843</td>\n",
       "      <td>0</td>\n",
       "      <td>2012-10-14 07:09:24.693000+00:00</td>\n",
       "      <td>0</td>\n",
       "      <td>0</td>\n",
       "    </tr>\n",
       "    <tr>\n",
       "      <th>915</th>\n",
       "      <td>254306319</td>\n",
       "      <td>2678620069</td>\n",
       "      <td>0</td>\n",
       "      <td>2012-12-04 00:41:22.231000+00:00</td>\n",
       "      <td>0</td>\n",
       "      <td>0</td>\n",
       "    </tr>\n",
       "  </tbody>\n",
       "</table>\n",
       "</div>"
      ],
      "text/plain": [
       "             user       event  invited                         timestamp  \\\n",
       "10436  3005728385  4066934337        0  2012-11-28 04:36:46.719000+00:00   \n",
       "11742  3338812734  2321179843        0  2012-10-14 07:09:24.693000+00:00   \n",
       "915     254306319  2678620069        0  2012-12-04 00:41:22.231000+00:00   \n",
       "\n",
       "       interested  not_interested  \n",
       "10436           0               0  \n",
       "11742           0               0  \n",
       "915             0               0  "
      ]
     },
     "execution_count": 3,
     "metadata": {},
     "output_type": "execute_result"
    }
   ],
   "source": [
    "train_df.sample(3)"
   ]
  },
  {
   "cell_type": "code",
   "execution_count": 4,
   "metadata": {},
   "outputs": [
    {
     "data": {
      "text/plain": [
       "(15398, 6)"
      ]
     },
     "execution_count": 4,
     "metadata": {},
     "output_type": "execute_result"
    }
   ],
   "source": [
    "train_df.shape"
   ]
  },
  {
   "cell_type": "code",
   "execution_count": 5,
   "metadata": {},
   "outputs": [
    {
     "data": {
      "text/html": [
       "<div>\n",
       "<style scoped>\n",
       "    .dataframe tbody tr th:only-of-type {\n",
       "        vertical-align: middle;\n",
       "    }\n",
       "\n",
       "    .dataframe tbody tr th {\n",
       "        vertical-align: top;\n",
       "    }\n",
       "\n",
       "    .dataframe thead th {\n",
       "        text-align: right;\n",
       "    }\n",
       "</style>\n",
       "<table border=\"1\" class=\"dataframe\">\n",
       "  <thead>\n",
       "    <tr style=\"text-align: right;\">\n",
       "      <th></th>\n",
       "      <th>user</th>\n",
       "      <th>event</th>\n",
       "      <th>invited</th>\n",
       "      <th>timestamp</th>\n",
       "    </tr>\n",
       "  </thead>\n",
       "  <tbody>\n",
       "    <tr>\n",
       "      <th>7133</th>\n",
       "      <td>2991097972</td>\n",
       "      <td>3420008322</td>\n",
       "      <td>0</td>\n",
       "      <td>2012-10-19 00:33:29.001000+00:00</td>\n",
       "    </tr>\n",
       "    <tr>\n",
       "      <th>3049</th>\n",
       "      <td>1227878272</td>\n",
       "      <td>2374444123</td>\n",
       "      <td>0</td>\n",
       "      <td>2012-10-30 05:17:13.159000+00:00</td>\n",
       "    </tr>\n",
       "    <tr>\n",
       "      <th>1286</th>\n",
       "      <td>547302435</td>\n",
       "      <td>440098296</td>\n",
       "      <td>0</td>\n",
       "      <td>2012-10-28 03:44:37.293000+00:00</td>\n",
       "    </tr>\n",
       "  </tbody>\n",
       "</table>\n",
       "</div>"
      ],
      "text/plain": [
       "            user       event  invited                         timestamp\n",
       "7133  2991097972  3420008322        0  2012-10-19 00:33:29.001000+00:00\n",
       "3049  1227878272  2374444123        0  2012-10-30 05:17:13.159000+00:00\n",
       "1286   547302435   440098296        0  2012-10-28 03:44:37.293000+00:00"
      ]
     },
     "execution_count": 5,
     "metadata": {},
     "output_type": "execute_result"
    }
   ],
   "source": [
    "test_df.sample(3)"
   ]
  },
  {
   "cell_type": "code",
   "execution_count": 6,
   "metadata": {},
   "outputs": [
    {
     "data": {
      "text/plain": [
       "(10237, 4)"
      ]
     },
     "execution_count": 6,
     "metadata": {},
     "output_type": "execute_result"
    }
   ],
   "source": [
    "test_df.shape"
   ]
  },
  {
   "cell_type": "code",
   "execution_count": 7,
   "metadata": {},
   "outputs": [
    {
     "data": {
      "text/html": [
       "<div>\n",
       "<style scoped>\n",
       "    .dataframe tbody tr th:only-of-type {\n",
       "        vertical-align: middle;\n",
       "    }\n",
       "\n",
       "    .dataframe tbody tr th {\n",
       "        vertical-align: top;\n",
       "    }\n",
       "\n",
       "    .dataframe thead th {\n",
       "        text-align: right;\n",
       "    }\n",
       "</style>\n",
       "<table border=\"1\" class=\"dataframe\">\n",
       "  <thead>\n",
       "    <tr style=\"text-align: right;\">\n",
       "      <th></th>\n",
       "      <th>user_id</th>\n",
       "      <th>locale</th>\n",
       "      <th>birthyear</th>\n",
       "      <th>gender</th>\n",
       "      <th>joinedAt</th>\n",
       "      <th>location</th>\n",
       "      <th>timezone</th>\n",
       "    </tr>\n",
       "  </thead>\n",
       "  <tbody>\n",
       "    <tr>\n",
       "      <th>3579</th>\n",
       "      <td>3149755720</td>\n",
       "      <td>id_ID</td>\n",
       "      <td>1987</td>\n",
       "      <td>female</td>\n",
       "      <td>2012-10-25T11:04:51.372Z</td>\n",
       "      <td>Medan  Indonesia</td>\n",
       "      <td>420.0</td>\n",
       "    </tr>\n",
       "    <tr>\n",
       "      <th>1384</th>\n",
       "      <td>1566352766</td>\n",
       "      <td>id_ID</td>\n",
       "      <td>1993</td>\n",
       "      <td>male</td>\n",
       "      <td>2012-09-25T00:31:57.152Z</td>\n",
       "      <td>Medan  Indonesia</td>\n",
       "      <td>420.0</td>\n",
       "    </tr>\n",
       "    <tr>\n",
       "      <th>5840</th>\n",
       "      <td>4143773682</td>\n",
       "      <td>en_US</td>\n",
       "      <td>1985</td>\n",
       "      <td>male</td>\n",
       "      <td>2012-11-08T23:28:08.647Z</td>\n",
       "      <td>Phnom Penh</td>\n",
       "      <td>420.0</td>\n",
       "    </tr>\n",
       "  </tbody>\n",
       "</table>\n",
       "</div>"
      ],
      "text/plain": [
       "         user_id locale birthyear  gender                  joinedAt  \\\n",
       "3579  3149755720  id_ID      1987  female  2012-10-25T11:04:51.372Z   \n",
       "1384  1566352766  id_ID      1993    male  2012-09-25T00:31:57.152Z   \n",
       "5840  4143773682  en_US      1985    male  2012-11-08T23:28:08.647Z   \n",
       "\n",
       "              location  timezone  \n",
       "3579  Medan  Indonesia     420.0  \n",
       "1384  Medan  Indonesia     420.0  \n",
       "5840        Phnom Penh     420.0  "
      ]
     },
     "execution_count": 7,
     "metadata": {},
     "output_type": "execute_result"
    }
   ],
   "source": [
    "users_df.sample(3)"
   ]
  },
  {
   "cell_type": "code",
   "execution_count": 8,
   "metadata": {},
   "outputs": [
    {
     "data": {
      "text/plain": [
       "(38209, 7)"
      ]
     },
     "execution_count": 8,
     "metadata": {},
     "output_type": "execute_result"
    }
   ],
   "source": [
    "users_df.shape"
   ]
  },
  {
   "cell_type": "code",
   "execution_count": 9,
   "metadata": {
    "scrolled": true
   },
   "outputs": [
    {
     "data": {
      "text/html": [
       "<div>\n",
       "<style scoped>\n",
       "    .dataframe tbody tr th:only-of-type {\n",
       "        vertical-align: middle;\n",
       "    }\n",
       "\n",
       "    .dataframe tbody tr th {\n",
       "        vertical-align: top;\n",
       "    }\n",
       "\n",
       "    .dataframe thead th {\n",
       "        text-align: right;\n",
       "    }\n",
       "</style>\n",
       "<table border=\"1\" class=\"dataframe\">\n",
       "  <thead>\n",
       "    <tr style=\"text-align: right;\">\n",
       "      <th></th>\n",
       "      <th>user</th>\n",
       "      <th>friends</th>\n",
       "    </tr>\n",
       "  </thead>\n",
       "  <tbody>\n",
       "    <tr>\n",
       "      <th>10711</th>\n",
       "      <td>3743850608</td>\n",
       "      <td>2744225667 60476996 302756193 2498417136 80506...</td>\n",
       "    </tr>\n",
       "    <tr>\n",
       "      <th>23542</th>\n",
       "      <td>2946039837</td>\n",
       "      <td>3710022142 1360644655 370486744 793854333 1336...</td>\n",
       "    </tr>\n",
       "    <tr>\n",
       "      <th>26296</th>\n",
       "      <td>3226465762</td>\n",
       "      <td>3150782240 3637747987 3043246176 1628627566 33...</td>\n",
       "    </tr>\n",
       "  </tbody>\n",
       "</table>\n",
       "</div>"
      ],
      "text/plain": [
       "             user                                            friends\n",
       "10711  3743850608  2744225667 60476996 302756193 2498417136 80506...\n",
       "23542  2946039837  3710022142 1360644655 370486744 793854333 1336...\n",
       "26296  3226465762  3150782240 3637747987 3043246176 1628627566 33..."
      ]
     },
     "execution_count": 9,
     "metadata": {},
     "output_type": "execute_result"
    }
   ],
   "source": [
    "user_friends_df.sample(3)"
   ]
  },
  {
   "cell_type": "code",
   "execution_count": 10,
   "metadata": {},
   "outputs": [
    {
     "data": {
      "text/plain": [
       "(38202, 2)"
      ]
     },
     "execution_count": 10,
     "metadata": {},
     "output_type": "execute_result"
    }
   ],
   "source": [
    "user_friends_df.shape"
   ]
  },
  {
   "cell_type": "code",
   "execution_count": 11,
   "metadata": {},
   "outputs": [
    {
     "data": {
      "text/html": [
       "<div>\n",
       "<style scoped>\n",
       "    .dataframe tbody tr th:only-of-type {\n",
       "        vertical-align: middle;\n",
       "    }\n",
       "\n",
       "    .dataframe tbody tr th {\n",
       "        vertical-align: top;\n",
       "    }\n",
       "\n",
       "    .dataframe thead th {\n",
       "        text-align: right;\n",
       "    }\n",
       "</style>\n",
       "<table border=\"1\" class=\"dataframe\">\n",
       "  <thead>\n",
       "    <tr style=\"text-align: right;\">\n",
       "      <th></th>\n",
       "      <th>event_id</th>\n",
       "      <th>user_id</th>\n",
       "      <th>start_time</th>\n",
       "      <th>city</th>\n",
       "      <th>state</th>\n",
       "      <th>zip</th>\n",
       "      <th>country</th>\n",
       "      <th>lat</th>\n",
       "      <th>lng</th>\n",
       "      <th>c_1</th>\n",
       "      <th>...</th>\n",
       "      <th>c_92</th>\n",
       "      <th>c_93</th>\n",
       "      <th>c_94</th>\n",
       "      <th>c_95</th>\n",
       "      <th>c_96</th>\n",
       "      <th>c_97</th>\n",
       "      <th>c_98</th>\n",
       "      <th>c_99</th>\n",
       "      <th>c_100</th>\n",
       "      <th>c_other</th>\n",
       "    </tr>\n",
       "  </thead>\n",
       "  <tbody>\n",
       "    <tr>\n",
       "      <th>3103747</th>\n",
       "      <td>1717103660</td>\n",
       "      <td>4273148690</td>\n",
       "      <td>2012-08-19T03:30:00.000Z</td>\n",
       "      <td>Germantown</td>\n",
       "      <td>MD</td>\n",
       "      <td>NaN</td>\n",
       "      <td>United States</td>\n",
       "      <td>39.177</td>\n",
       "      <td>-77.257</td>\n",
       "      <td>1</td>\n",
       "      <td>...</td>\n",
       "      <td>0</td>\n",
       "      <td>0</td>\n",
       "      <td>0</td>\n",
       "      <td>0</td>\n",
       "      <td>0</td>\n",
       "      <td>0</td>\n",
       "      <td>0</td>\n",
       "      <td>0</td>\n",
       "      <td>0</td>\n",
       "      <td>22</td>\n",
       "    </tr>\n",
       "    <tr>\n",
       "      <th>384248</th>\n",
       "      <td>150717235</td>\n",
       "      <td>2257006975</td>\n",
       "      <td>2012-10-20T01:00:00.003Z</td>\n",
       "      <td>NaN</td>\n",
       "      <td>NaN</td>\n",
       "      <td>NaN</td>\n",
       "      <td>NaN</td>\n",
       "      <td>NaN</td>\n",
       "      <td>NaN</td>\n",
       "      <td>1</td>\n",
       "      <td>...</td>\n",
       "      <td>0</td>\n",
       "      <td>0</td>\n",
       "      <td>0</td>\n",
       "      <td>1</td>\n",
       "      <td>0</td>\n",
       "      <td>0</td>\n",
       "      <td>1</td>\n",
       "      <td>0</td>\n",
       "      <td>0</td>\n",
       "      <td>27</td>\n",
       "    </tr>\n",
       "    <tr>\n",
       "      <th>2041947</th>\n",
       "      <td>2260075719</td>\n",
       "      <td>3293560262</td>\n",
       "      <td>2012-11-15T06:00:00.003Z</td>\n",
       "      <td>NaN</td>\n",
       "      <td>NaN</td>\n",
       "      <td>NaN</td>\n",
       "      <td>NaN</td>\n",
       "      <td>NaN</td>\n",
       "      <td>NaN</td>\n",
       "      <td>2</td>\n",
       "      <td>...</td>\n",
       "      <td>0</td>\n",
       "      <td>0</td>\n",
       "      <td>0</td>\n",
       "      <td>0</td>\n",
       "      <td>0</td>\n",
       "      <td>0</td>\n",
       "      <td>0</td>\n",
       "      <td>0</td>\n",
       "      <td>0</td>\n",
       "      <td>4</td>\n",
       "    </tr>\n",
       "  </tbody>\n",
       "</table>\n",
       "<p>3 rows × 110 columns</p>\n",
       "</div>"
      ],
      "text/plain": [
       "           event_id     user_id                start_time        city state  \\\n",
       "3103747  1717103660  4273148690  2012-08-19T03:30:00.000Z  Germantown    MD   \n",
       "384248    150717235  2257006975  2012-10-20T01:00:00.003Z         NaN   NaN   \n",
       "2041947  2260075719  3293560262  2012-11-15T06:00:00.003Z         NaN   NaN   \n",
       "\n",
       "         zip        country     lat     lng  c_1  ...  c_92  c_93  c_94  c_95  \\\n",
       "3103747  NaN  United States  39.177 -77.257    1  ...     0     0     0     0   \n",
       "384248   NaN            NaN     NaN     NaN    1  ...     0     0     0     1   \n",
       "2041947  NaN            NaN     NaN     NaN    2  ...     0     0     0     0   \n",
       "\n",
       "         c_96  c_97  c_98  c_99  c_100  c_other  \n",
       "3103747     0     0     0     0      0       22  \n",
       "384248      0     0     1     0      0       27  \n",
       "2041947     0     0     0     0      0        4  \n",
       "\n",
       "[3 rows x 110 columns]"
      ]
     },
     "execution_count": 11,
     "metadata": {},
     "output_type": "execute_result"
    }
   ],
   "source": [
    "events_df.sample(3)"
   ]
  },
  {
   "cell_type": "code",
   "execution_count": 12,
   "metadata": {},
   "outputs": [
    {
     "data": {
      "text/plain": [
       "(3137972, 110)"
      ]
     },
     "execution_count": 12,
     "metadata": {},
     "output_type": "execute_result"
    }
   ],
   "source": [
    "events_df.shape"
   ]
  },
  {
   "cell_type": "code",
   "execution_count": 13,
   "metadata": {},
   "outputs": [
    {
     "data": {
      "text/html": [
       "<div>\n",
       "<style scoped>\n",
       "    .dataframe tbody tr th:only-of-type {\n",
       "        vertical-align: middle;\n",
       "    }\n",
       "\n",
       "    .dataframe tbody tr th {\n",
       "        vertical-align: top;\n",
       "    }\n",
       "\n",
       "    .dataframe thead th {\n",
       "        text-align: right;\n",
       "    }\n",
       "</style>\n",
       "<table border=\"1\" class=\"dataframe\">\n",
       "  <thead>\n",
       "    <tr style=\"text-align: right;\">\n",
       "      <th></th>\n",
       "      <th>event</th>\n",
       "      <th>yes</th>\n",
       "      <th>maybe</th>\n",
       "      <th>invited</th>\n",
       "      <th>no</th>\n",
       "    </tr>\n",
       "  </thead>\n",
       "  <tbody>\n",
       "    <tr>\n",
       "      <th>22950</th>\n",
       "      <td>1977406305</td>\n",
       "      <td>99240058 2545371972</td>\n",
       "      <td>NaN</td>\n",
       "      <td>2138442061 766167504 1677343422 2159814197</td>\n",
       "      <td>NaN</td>\n",
       "    </tr>\n",
       "    <tr>\n",
       "      <th>2887</th>\n",
       "      <td>1180440770</td>\n",
       "      <td>4132048871 884148328 2612802385 3378716125 100...</td>\n",
       "      <td>2060527614 3778434404 3462370471 815532795 106...</td>\n",
       "      <td>490203760 3156449290 143232238 510542959 26692...</td>\n",
       "      <td>1944656963 1191949470 4037579500 3478748057 16...</td>\n",
       "    </tr>\n",
       "    <tr>\n",
       "      <th>10879</th>\n",
       "      <td>361060814</td>\n",
       "      <td>2365261832 1800193892 2913057748 1128043319 88...</td>\n",
       "      <td>2654861659 1731395369 1233195359 212561420 220...</td>\n",
       "      <td>3026117162 1170301617 483420821 2109104539 211...</td>\n",
       "      <td>223124516 1148188143</td>\n",
       "    </tr>\n",
       "  </tbody>\n",
       "</table>\n",
       "</div>"
      ],
      "text/plain": [
       "            event                                                yes  \\\n",
       "22950  1977406305                                99240058 2545371972   \n",
       "2887   1180440770  4132048871 884148328 2612802385 3378716125 100...   \n",
       "10879   361060814  2365261832 1800193892 2913057748 1128043319 88...   \n",
       "\n",
       "                                                   maybe  \\\n",
       "22950                                                NaN   \n",
       "2887   2060527614 3778434404 3462370471 815532795 106...   \n",
       "10879  2654861659 1731395369 1233195359 212561420 220...   \n",
       "\n",
       "                                                 invited  \\\n",
       "22950         2138442061 766167504 1677343422 2159814197   \n",
       "2887   490203760 3156449290 143232238 510542959 26692...   \n",
       "10879  3026117162 1170301617 483420821 2109104539 211...   \n",
       "\n",
       "                                                      no  \n",
       "22950                                                NaN  \n",
       "2887   1944656963 1191949470 4037579500 3478748057 16...  \n",
       "10879                               223124516 1148188143  "
      ]
     },
     "execution_count": 13,
     "metadata": {},
     "output_type": "execute_result"
    }
   ],
   "source": [
    "event_attendees_df.sample(3)"
   ]
  },
  {
   "cell_type": "code",
   "execution_count": 14,
   "metadata": {},
   "outputs": [
    {
     "data": {
      "text/plain": [
       "(24144, 5)"
      ]
     },
     "execution_count": 14,
     "metadata": {},
     "output_type": "execute_result"
    }
   ],
   "source": [
    "event_attendees_df.shape"
   ]
  },
  {
   "cell_type": "code",
   "execution_count": null,
   "metadata": {},
   "outputs": [],
   "source": []
  }
 ],
 "metadata": {
  "kernelspec": {
   "display_name": "Python 3",
   "language": "python",
   "name": "python3"
  },
  "language_info": {
   "codemirror_mode": {
    "name": "ipython",
    "version": 3
   },
   "file_extension": ".py",
   "mimetype": "text/x-python",
   "name": "python",
   "nbconvert_exporter": "python",
   "pygments_lexer": "ipython3",
   "version": "3.8.5"
  }
 },
 "nbformat": 4,
 "nbformat_minor": 4
}
