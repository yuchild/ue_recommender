{
 "cells": [
  {
   "cell_type": "code",
   "execution_count": 1,
   "metadata": {
    "scrolled": true
   },
   "outputs": [],
   "source": [
    "\"\"\"\n",
    "There are six files in all: train.csv, test.csv, users.csv, \n",
    "user_friends.csv, events.csv, and event_attendees.csv.\n",
    "\n",
    "train.csv has six columns:  user, event, invited, timestamp, \n",
    "interested, and not_interested.  Test.csv contains the same \n",
    "columns as train.csv, except for interested and not_interested. \n",
    "Each row corresponds to an event that was shown to a user in \n",
    "our application.  event is an id identifying an event in a our system.  \n",
    "user is an id representing a user in our system.  invited is a \n",
    "binary variable indicated whether the user has been invited to \n",
    "the event. timestamp is a ISO-8601 UTC time string representing \n",
    "the approximate time (+/- 2 hours) when the user saw the event in \n",
    "our application. interested is a binary variable indicating whether \n",
    "a user clicked on the \"Interested\" button for this event; it is 1 \n",
    "if the user clicked Interested and 0 if the user did not click the \n",
    "button.  Similarly, not_interested is a binary variable indicating \n",
    "whether a user clicked on the \"Not Interested\" button for this event; \n",
    "it is 1 if the user clicked the button and 0 if not.  It is possible \n",
    "that the user saw an event and clicked neither Interested nor Not \n",
    "Interested, and hence there are rows that contain 0,0 as values for \n",
    "interested,not_interested.\n",
    "\n",
    "users.csv contains demographic data about our some of our users \n",
    "(including all of the users appearing in the train and test files), \n",
    "and it has the following columns: user_id, locale, birthyear, \n",
    "gender, joinedAt, location, and timezone. user_id is the id of \n",
    "the user in our system.  locale is a string representing the \n",
    "user's locale, which should be of the form language_territory. \n",
    "birthyear is a 4-digit integer representing the year when the user \n",
    "was born. gender is either male or female, depending on the user's \n",
    "gender.  joinedAt is an ISO-8601 UTC time string representing when \n",
    "the user first used our application.  location is a string \n",
    "representing the user's location (if known).  timezone is a \n",
    "signed integer representing the user's UTC offset (in minutes).\n",
    "\n",
    "user_friends.csv contains social data about this user, and contains \n",
    "two columns:  user and friends.  user is the user's id in our system, \n",
    "and friends is a space-delimited list of the user's friends' ids.\n",
    "\n",
    "events.csv contains data about events in our system, and has 110 \n",
    "columns.  The first nine columns are event_id, user_id, start_time, \n",
    "city, state, zip, country, lat, and lng.  event_id is the id of \n",
    "the event, and user_id is the id of the user who created the event.  \n",
    "city, state, zip, and country represent more details about the \n",
    "location of the venue (if known).  lat and lng are floats \n",
    "representing the latitude and longitude coordinates of the venue, \n",
    "rounded to three decimal places.  start_time is the ISO-8601 UTC \n",
    "time string representing when the event is scheduled to begin.  \n",
    "The last 101 columns require a bit more explanation; first, we \n",
    "determined the 100 most common word stems (obtained via Porter \n",
    "Stemming) occuring in the name or description of a large random \n",
    "subset of our events.  The last 101 columns are count_1, count_2, \n",
    "..., count_100, count_other, where count_N is an integer representing \n",
    "the number of times the Nth most common word stem appears in the \n",
    "name or description of this event.  count_other is a count of the \n",
    "rest of the words whose stem wasn't one of the 100 most common stems.\n",
    "\n",
    "event_attendees.csv contains information about which users attended \n",
    "various events, and has the following columns: event_id, yes, maybe, \n",
    "invited, and no. event_id identifies the event. yes, maybe, invited, \n",
    "and no are space-delimited lists of user id's representing users who \n",
    "indicated that they were going, maybe going, invited to, or not going \n",
    "to the event.\n",
    "\"\"\"\n",
    "\n",
    "import pandas as pd\n",
    "import numpy as np\n",
    "import matplotlib.pyplot as plt\n",
    "plt.style.use('fivethirtyeight')\n",
    "import datetime as dt"
   ]
  },
  {
   "cell_type": "code",
   "execution_count": 2,
   "metadata": {
    "scrolled": true
   },
   "outputs": [],
   "source": [
    "train_df = pd.read_csv('./data/30Nov2020/train.csv')\n",
    "test_df = pd.read_csv('./data/30Nov2020/test.csv')\n",
    "users_df = pd.read_csv('./data/30Nov2020/users.csv')\n",
    "user_friends_df = pd.read_csv('./data/30Nov2020/user_friends.csv')\n",
    "events_df = pd.read_csv('./data/30Nov2020/events.csv')\n",
    "event_attendees_df = pd.read_csv('./data/30Nov2020/event_attendees.csv')"
   ]
  },
  {
   "cell_type": "code",
   "execution_count": null,
   "metadata": {
    "scrolled": true
   },
   "outputs": [],
   "source": [
    "train_df.sample(3)"
   ]
  },
  {
   "cell_type": "code",
   "execution_count": null,
   "metadata": {
    "scrolled": true
   },
   "outputs": [],
   "source": [
    "train_df.shape"
   ]
  },
  {
   "cell_type": "code",
   "execution_count": null,
   "metadata": {
    "scrolled": true
   },
   "outputs": [],
   "source": [
    "train_df.info()"
   ]
  },
  {
   "cell_type": "code",
   "execution_count": null,
   "metadata": {
    "scrolled": true
   },
   "outputs": [],
   "source": [
    "test_df.sample(3)"
   ]
  },
  {
   "cell_type": "code",
   "execution_count": null,
   "metadata": {
    "scrolled": true
   },
   "outputs": [],
   "source": [
    "test_df.shape"
   ]
  },
  {
   "cell_type": "code",
   "execution_count": null,
   "metadata": {
    "scrolled": true
   },
   "outputs": [],
   "source": [
    "users_df.sample(3)"
   ]
  },
  {
   "cell_type": "code",
   "execution_count": null,
   "metadata": {
    "scrolled": true
   },
   "outputs": [],
   "source": [
    "users_df.shape"
   ]
  },
  {
   "cell_type": "code",
   "execution_count": null,
   "metadata": {
    "scrolled": true
   },
   "outputs": [],
   "source": [
    "user_friends_df.sample(3)"
   ]
  },
  {
   "cell_type": "code",
   "execution_count": null,
   "metadata": {
    "scrolled": true
   },
   "outputs": [],
   "source": [
    "user_friends_df.shape"
   ]
  },
  {
   "cell_type": "code",
   "execution_count": null,
   "metadata": {
    "scrolled": true
   },
   "outputs": [],
   "source": [
    "events_df.sample(3)"
   ]
  },
  {
   "cell_type": "code",
   "execution_count": null,
   "metadata": {
    "scrolled": true
   },
   "outputs": [],
   "source": [
    "events_df.shape"
   ]
  },
  {
   "cell_type": "code",
   "execution_count": null,
   "metadata": {
    "scrolled": true
   },
   "outputs": [],
   "source": [
    "event_attendees_df.sample(3)"
   ]
  },
  {
   "cell_type": "code",
   "execution_count": null,
   "metadata": {
    "scrolled": true
   },
   "outputs": [],
   "source": [
    "event_attendees_df.shape"
   ]
  },
  {
   "cell_type": "markdown",
   "metadata": {},
   "source": [
    "### Random Forest Classifier"
   ]
  },
  {
   "cell_type": "markdown",
   "metadata": {},
   "source": [
    "#### Balance Data Set"
   ]
  },
  {
   "cell_type": "code",
   "execution_count": 3,
   "metadata": {
    "scrolled": true
   },
   "outputs": [
    {
     "data": {
      "text/plain": [
       "0    11267\n",
       "1     4131\n",
       "Name: interested, dtype: int64"
      ]
     },
     "execution_count": 3,
     "metadata": {},
     "output_type": "execute_result"
    }
   ],
   "source": [
    "train_df.interested.value_counts()"
   ]
  },
  {
   "cell_type": "code",
   "execution_count": 4,
   "metadata": {},
   "outputs": [
    {
     "data": {
      "text/plain": [
       "0    14884\n",
       "1      514\n",
       "Name: not_interested, dtype: int64"
      ]
     },
     "execution_count": 4,
     "metadata": {},
     "output_type": "execute_result"
    }
   ],
   "source": [
    "train_df.not_interested.value_counts()"
   ]
  },
  {
   "cell_type": "code",
   "execution_count": 5,
   "metadata": {},
   "outputs": [],
   "source": [
    "# learning from: https://elitedatascience.com/imbalanced-classes\n",
    "from sklearn.utils import resample"
   ]
  },
  {
   "cell_type": "code",
   "execution_count": 28,
   "metadata": {},
   "outputs": [],
   "source": [
    "X1_major = train_df[train_df.interested == 0]\n",
    "X1_minor = train_df[train_df.interested == 1]\n",
    "\n",
    "X2_major = train_df[train_df.not_interested == 0]\n",
    "X2_minor = train_df[train_df.not_interested == 1]\n",
    "\n",
    "X1_minor_upsampled = resample(X1_minor\n",
    "                              , replace = True\n",
    "                              , n_samples = 11267\n",
    "                              , random_state = 42\n",
    "                             )\n",
    "\n",
    "X2_minor_upsampled = resample(X2_minor\n",
    "                              , replace = True\n",
    "                              , n_samples = 14884\n",
    "                              , random_state = 42\n",
    "                             )\n",
    "\n",
    "X1_upsampled = pd.concat([X1_major, X1_minor_upsampled])\n",
    "X2_upsampled = pd.concat([X2_major, X2_minor_upsampled])"
   ]
  },
  {
   "cell_type": "code",
   "execution_count": 29,
   "metadata": {},
   "outputs": [
    {
     "data": {
      "text/plain": [
       "(Index(['user', 'event', 'invited', 'timestamp', 'interested',\n",
       "        'not_interested'],\n",
       "       dtype='object'),\n",
       " Index(['user', 'event', 'invited', 'timestamp', 'interested',\n",
       "        'not_interested'],\n",
       "       dtype='object'))"
      ]
     },
     "execution_count": 29,
     "metadata": {},
     "output_type": "execute_result"
    }
   ],
   "source": [
    "X1_upsampled.columns, X2_upsampled.columns"
   ]
  },
  {
   "cell_type": "code",
   "execution_count": 30,
   "metadata": {},
   "outputs": [
    {
     "data": {
      "text/plain": [
       "1    11267\n",
       "0    11267\n",
       "Name: interested, dtype: int64"
      ]
     },
     "execution_count": 30,
     "metadata": {},
     "output_type": "execute_result"
    }
   ],
   "source": [
    "X1_upsampled.interested.value_counts()"
   ]
  },
  {
   "cell_type": "code",
   "execution_count": 31,
   "metadata": {},
   "outputs": [
    {
     "data": {
      "text/plain": [
       "1    14884\n",
       "0    14884\n",
       "Name: not_interested, dtype: int64"
      ]
     },
     "execution_count": 31,
     "metadata": {},
     "output_type": "execute_result"
    }
   ],
   "source": [
    "X2_upsampled.not_interested.value_counts()"
   ]
  },
  {
   "cell_type": "code",
   "execution_count": 32,
   "metadata": {},
   "outputs": [],
   "source": [
    "# shuffle using sample\n",
    "X1_upsampled = X1_upsampled.sample(frac=1).reset_index(drop=True)\n",
    "X2_upsampled = X2_upsampled.sample(frac=1).reset_index(drop=True)"
   ]
  },
  {
   "cell_type": "code",
   "execution_count": 33,
   "metadata": {},
   "outputs": [],
   "source": [
    "# shuffle using sklearn.utils.shuffle()\n",
    "from sklearn.utils import shuffle\n",
    "X1_upsampled = shuffle(X1_upsampled)\n",
    "X2_upsampled = shuffle(X2_upsampled)\n",
    "\n",
    "X1_upsampled.reset_index(inplace=True, drop=True)\n",
    "X2_upsampled.reset_index(inplace=True, drop=True)"
   ]
  },
  {
   "cell_type": "code",
   "execution_count": 34,
   "metadata": {},
   "outputs": [
    {
     "data": {
      "text/html": [
       "<div>\n",
       "<style scoped>\n",
       "    .dataframe tbody tr th:only-of-type {\n",
       "        vertical-align: middle;\n",
       "    }\n",
       "\n",
       "    .dataframe tbody tr th {\n",
       "        vertical-align: top;\n",
       "    }\n",
       "\n",
       "    .dataframe thead th {\n",
       "        text-align: right;\n",
       "    }\n",
       "</style>\n",
       "<table border=\"1\" class=\"dataframe\">\n",
       "  <thead>\n",
       "    <tr style=\"text-align: right;\">\n",
       "      <th></th>\n",
       "      <th>user</th>\n",
       "      <th>event</th>\n",
       "      <th>invited</th>\n",
       "      <th>timestamp</th>\n",
       "      <th>interested</th>\n",
       "      <th>not_interested</th>\n",
       "    </tr>\n",
       "  </thead>\n",
       "  <tbody>\n",
       "    <tr>\n",
       "      <th>0</th>\n",
       "      <td>2033574675</td>\n",
       "      <td>952519340</td>\n",
       "      <td>0</td>\n",
       "      <td>2012-10-30 14:02:19.873000+00:00</td>\n",
       "      <td>1</td>\n",
       "      <td>0</td>\n",
       "    </tr>\n",
       "    <tr>\n",
       "      <th>1</th>\n",
       "      <td>1107615001</td>\n",
       "      <td>173949238</td>\n",
       "      <td>1</td>\n",
       "      <td>2012-11-19 08:11:35.202000+00:00</td>\n",
       "      <td>0</td>\n",
       "      <td>0</td>\n",
       "    </tr>\n",
       "    <tr>\n",
       "      <th>2</th>\n",
       "      <td>988160405</td>\n",
       "      <td>1203717384</td>\n",
       "      <td>0</td>\n",
       "      <td>2012-11-01 10:22:21.125000+00:00</td>\n",
       "      <td>1</td>\n",
       "      <td>0</td>\n",
       "    </tr>\n",
       "    <tr>\n",
       "      <th>3</th>\n",
       "      <td>2643058163</td>\n",
       "      <td>2790657295</td>\n",
       "      <td>0</td>\n",
       "      <td>2012-11-12 05:22:27.681000+00:00</td>\n",
       "      <td>1</td>\n",
       "      <td>0</td>\n",
       "    </tr>\n",
       "    <tr>\n",
       "      <th>4</th>\n",
       "      <td>2116203935</td>\n",
       "      <td>2867959207</td>\n",
       "      <td>0</td>\n",
       "      <td>2012-11-10 02:49:12.032000+00:00</td>\n",
       "      <td>1</td>\n",
       "      <td>0</td>\n",
       "    </tr>\n",
       "  </tbody>\n",
       "</table>\n",
       "</div>"
      ],
      "text/plain": [
       "         user       event  invited                         timestamp  \\\n",
       "0  2033574675   952519340        0  2012-10-30 14:02:19.873000+00:00   \n",
       "1  1107615001   173949238        1  2012-11-19 08:11:35.202000+00:00   \n",
       "2   988160405  1203717384        0  2012-11-01 10:22:21.125000+00:00   \n",
       "3  2643058163  2790657295        0  2012-11-12 05:22:27.681000+00:00   \n",
       "4  2116203935  2867959207        0  2012-11-10 02:49:12.032000+00:00   \n",
       "\n",
       "   interested  not_interested  \n",
       "0           1               0  \n",
       "1           0               0  \n",
       "2           1               0  \n",
       "3           1               0  \n",
       "4           1               0  "
      ]
     },
     "execution_count": 34,
     "metadata": {},
     "output_type": "execute_result"
    }
   ],
   "source": [
    "X1_upsampled.head()"
   ]
  },
  {
   "cell_type": "code",
   "execution_count": 35,
   "metadata": {},
   "outputs": [],
   "source": [
    "from sklearn.model_selection import train_test_split"
   ]
  },
  {
   "cell_type": "code",
   "execution_count": 36,
   "metadata": {},
   "outputs": [],
   "source": [
    "X1_train, X1_test, y1_train, y1_test = train_test_split(X1_upsampled.drop(columns = ['interested', 'not_interested'])\n",
    "                                                        , X1_upsampled.interested\n",
    "                                                        , test_size = 0.1\n",
    "                                                        , random_state = 42\n",
    "                                                       )\n",
    "\n",
    "X2_train, X2_test, y2_train, y2_test = train_test_split(X2_upsampled.drop(columns = ['interested', 'not_interested'])\n",
    "                                                        , X2_upsampled.not_interested\n",
    "                                                        , test_size = 0.1\n",
    "                                                        , random_state = 42\n",
    "                                                       )"
   ]
  },
  {
   "cell_type": "code",
   "execution_count": null,
   "metadata": {},
   "outputs": [],
   "source": []
  },
  {
   "cell_type": "code",
   "execution_count": null,
   "metadata": {},
   "outputs": [],
   "source": []
  },
  {
   "cell_type": "code",
   "execution_count": null,
   "metadata": {},
   "outputs": [],
   "source": []
  },
  {
   "cell_type": "code",
   "execution_count": null,
   "metadata": {},
   "outputs": [],
   "source": []
  },
  {
   "cell_type": "code",
   "execution_count": null,
   "metadata": {},
   "outputs": [],
   "source": []
  },
  {
   "cell_type": "code",
   "execution_count": null,
   "metadata": {},
   "outputs": [],
   "source": []
  },
  {
   "cell_type": "code",
   "execution_count": null,
   "metadata": {},
   "outputs": [],
   "source": []
  },
  {
   "cell_type": "code",
   "execution_count": null,
   "metadata": {},
   "outputs": [],
   "source": []
  },
  {
   "cell_type": "code",
   "execution_count": null,
   "metadata": {},
   "outputs": [],
   "source": []
  },
  {
   "cell_type": "code",
   "execution_count": null,
   "metadata": {},
   "outputs": [],
   "source": []
  },
  {
   "cell_type": "code",
   "execution_count": null,
   "metadata": {},
   "outputs": [],
   "source": []
  },
  {
   "cell_type": "code",
   "execution_count": null,
   "metadata": {},
   "outputs": [],
   "source": []
  },
  {
   "cell_type": "code",
   "execution_count": null,
   "metadata": {},
   "outputs": [],
   "source": []
  },
  {
   "cell_type": "code",
   "execution_count": null,
   "metadata": {},
   "outputs": [],
   "source": []
  },
  {
   "cell_type": "code",
   "execution_count": null,
   "metadata": {
    "scrolled": true
   },
   "outputs": [],
   "source": [
    "train_df.info()"
   ]
  },
  {
   "cell_type": "code",
   "execution_count": null,
   "metadata": {},
   "outputs": [],
   "source": []
  },
  {
   "cell_type": "code",
   "execution_count": null,
   "metadata": {},
   "outputs": [],
   "source": []
  },
  {
   "cell_type": "code",
   "execution_count": null,
   "metadata": {},
   "outputs": [],
   "source": []
  },
  {
   "cell_type": "code",
   "execution_count": null,
   "metadata": {
    "scrolled": true
   },
   "outputs": [],
   "source": [
    "train_df.loc[:, 'timestamp'] = pd.to_datetime(train_df.timestamp).map(dt.datetime.toordinal)"
   ]
  },
  {
   "cell_type": "code",
   "execution_count": null,
   "metadata": {},
   "outputs": [],
   "source": [
    "train_df.info()"
   ]
  },
  {
   "cell_type": "code",
   "execution_count": null,
   "metadata": {
    "scrolled": true
   },
   "outputs": [],
   "source": [
    "train_df.interested.unique(), train_df.not_interested.unique()"
   ]
  },
  {
   "cell_type": "code",
   "execution_count": null,
   "metadata": {},
   "outputs": [],
   "source": [
    "X = train_df.drop(['interested', 'not_interested'], axis = 1).copy()\n",
    "y1 = train_df.interested.copy()\n",
    "y2 = train_df.not_interested.copy()"
   ]
  },
  {
   "cell_type": "code",
   "execution_count": null,
   "metadata": {},
   "outputs": [],
   "source": [
    "X.sample(3)"
   ]
  },
  {
   "cell_type": "code",
   "execution_count": null,
   "metadata": {},
   "outputs": [],
   "source": [
    "from sklearn.ensemble import RandomForestClassifier\n",
    "rfc1 = RandomForestClassifier()\n",
    "rfc1.fit(X, y1)\n",
    "rfc2 = RandomForestClassifier()\n",
    "rfc2.fit(X, y2)"
   ]
  },
  {
   "cell_type": "markdown",
   "metadata": {},
   "source": [
    "### Random Forest Classifier Metrics"
   ]
  },
  {
   "cell_type": "code",
   "execution_count": null,
   "metadata": {},
   "outputs": [],
   "source": [
    "y1_probs = rfc1.predict_proba(X)[:, 1]\n",
    "y2_probs = rfc2.predict_proba(X)[:, 1]"
   ]
  },
  {
   "cell_type": "code",
   "execution_count": null,
   "metadata": {},
   "outputs": [],
   "source": [
    "print(y1_probs[:10])\n",
    "print(y2_probs[:10])"
   ]
  },
  {
   "cell_type": "code",
   "execution_count": null,
   "metadata": {},
   "outputs": [],
   "source": [
    "from sklearn.model_selection import cross_val_score\n",
    "cval1 = cross_val_score(rfc1\n",
    "                       , X\n",
    "                       , y1\n",
    "                       , scoring='accuracy'\n",
    "                       , cv=7\n",
    "                      )\n",
    "\n",
    "print(f'Cross-Validation Score for interested: {np.mean(cval1)}')\n",
    "\n",
    "cval2 = cross_val_score(rfc2\n",
    "                       , X\n",
    "                       , y2\n",
    "                       , scoring='accuracy'\n",
    "                       , cv=7\n",
    "                      )\n",
    "\n",
    "print(f'Cross-Validation Score for interested: {np.mean(cval2)}')"
   ]
  },
  {
   "cell_type": "code",
   "execution_count": null,
   "metadata": {},
   "outputs": [],
   "source": [
    "from sklearn.metrics import (roc_auc_score\n",
    "                             , precision_score\n",
    "                             , recall_score\n",
    "                             , roc_curve\n",
    "                             , confusion_matrix\n",
    "                             , plot_confusion_matrix\n",
    "                             , precision_recall_curve\n",
    "                             , auc\n",
    "                            )"
   ]
  },
  {
   "cell_type": "code",
   "execution_count": null,
   "metadata": {},
   "outputs": [],
   "source": [
    "roc_score = roc_auc_score(y1\n",
    "                          , y1_probs\n",
    "                         )\n",
    "roc_score"
   ]
  },
  {
   "cell_type": "code",
   "execution_count": null,
   "metadata": {},
   "outputs": [],
   "source": []
  },
  {
   "cell_type": "code",
   "execution_count": null,
   "metadata": {},
   "outputs": [],
   "source": []
  },
  {
   "cell_type": "code",
   "execution_count": null,
   "metadata": {},
   "outputs": [],
   "source": []
  },
  {
   "cell_type": "markdown",
   "metadata": {},
   "source": [
    "### Make Prediction"
   ]
  },
  {
   "cell_type": "code",
   "execution_count": null,
   "metadata": {},
   "outputs": [],
   "source": [
    "test_df.columns"
   ]
  },
  {
   "cell_type": "code",
   "execution_count": null,
   "metadata": {},
   "outputs": [],
   "source": [
    "test_df.loc[:, 'timestamp'] = pd.to_datetime(test_df.timestamp).map(dt.datetime.toordinal)"
   ]
  },
  {
   "cell_type": "code",
   "execution_count": null,
   "metadata": {},
   "outputs": [],
   "source": [
    "test_df_rfc1 = test_df.copy()\n",
    "test_df_rfc2 = test_df.copy()\n",
    "test_df['interested'] = rfc.predict(test_df_rfc1)\n",
    "test_df['not_interested'] = rfc.predict(test_df_rfc2)"
   ]
  },
  {
   "cell_type": "code",
   "execution_count": null,
   "metadata": {},
   "outputs": [],
   "source": [
    "test_df.sample(5)"
   ]
  },
  {
   "cell_type": "code",
   "execution_count": null,
   "metadata": {},
   "outputs": [],
   "source": []
  }
 ],
 "metadata": {
  "kernelspec": {
   "display_name": "Python 3",
   "language": "python",
   "name": "python3"
  },
  "language_info": {
   "codemirror_mode": {
    "name": "ipython",
    "version": 3
   },
   "file_extension": ".py",
   "mimetype": "text/x-python",
   "name": "python",
   "nbconvert_exporter": "python",
   "pygments_lexer": "ipython3",
   "version": "3.8.5"
  }
 },
 "nbformat": 4,
 "nbformat_minor": 4
}
