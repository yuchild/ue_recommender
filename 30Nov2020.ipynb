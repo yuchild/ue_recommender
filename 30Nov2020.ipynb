{
 "cells": [
  {
   "cell_type": "code",
   "execution_count": 1,
   "metadata": {
    "scrolled": true
   },
   "outputs": [],
   "source": [
    "\"\"\"\n",
    "There are six files in all: train.csv, test.csv, users.csv, \n",
    "user_friends.csv, events.csv, and event_attendees.csv.\n",
    "\n",
    "train.csv has six columns:  user, event, invited, timestamp, \n",
    "interested, and not_interested.  Test.csv contains the same \n",
    "columns as train.csv, except for interested and not_interested. \n",
    "Each row corresponds to an event that was shown to a user in \n",
    "our application.  event is an id identifying an event in a our system.  \n",
    "user is an id representing a user in our system.  invited is a \n",
    "binary variable indicated whether the user has been invited to \n",
    "the event. timestamp is a ISO-8601 UTC time string representing \n",
    "the approximate time (+/- 2 hours) when the user saw the event in \n",
    "our application. interested is a binary variable indicating whether \n",
    "a user clicked on the \"Interested\" button for this event; it is 1 \n",
    "if the user clicked Interested and 0 if the user did not click the \n",
    "button.  Similarly, not_interested is a binary variable indicating \n",
    "whether a user clicked on the \"Not Interested\" button for this event; \n",
    "it is 1 if the user clicked the button and 0 if not.  It is possible \n",
    "that the user saw an event and clicked neither Interested nor Not \n",
    "Interested, and hence there are rows that contain 0,0 as values for \n",
    "interested,not_interested.\n",
    "\n",
    "users.csv contains demographic data about our some of our users \n",
    "(including all of the users appearing in the train and test files), \n",
    "and it has the following columns: user_id, locale, birthyear, \n",
    "gender, joinedAt, location, and timezone. user_id is the id of \n",
    "the user in our system.  locale is a string representing the \n",
    "user's locale, which should be of the form language_territory. \n",
    "birthyear is a 4-digit integer representing the year when the user \n",
    "was born. gender is either male or female, depending on the user's \n",
    "gender.  joinedAt is an ISO-8601 UTC time string representing when \n",
    "the user first used our application.  location is a string \n",
    "representing the user's location (if known).  timezone is a \n",
    "signed integer representing the user's UTC offset (in minutes).\n",
    "\n",
    "user_friends.csv contains social data about this user, and contains \n",
    "two columns:  user and friends.  user is the user's id in our system, \n",
    "and friends is a space-delimited list of the user's friends' ids.\n",
    "\n",
    "events.csv contains data about events in our system, and has 110 \n",
    "columns.  The first nine columns are event_id, user_id, start_time, \n",
    "city, state, zip, country, lat, and lng.  event_id is the id of \n",
    "the event, and user_id is the id of the user who created the event.  \n",
    "city, state, zip, and country represent more details about the \n",
    "location of the venue (if known).  lat and lng are floats \n",
    "representing the latitude and longitude coordinates of the venue, \n",
    "rounded to three decimal places.  start_time is the ISO-8601 UTC \n",
    "time string representing when the event is scheduled to begin.  \n",
    "The last 101 columns require a bit more explanation; first, we \n",
    "determined the 100 most common word stems (obtained via Porter \n",
    "Stemming) occuring in the name or description of a large random \n",
    "subset of our events.  The last 101 columns are count_1, count_2, \n",
    "..., count_100, count_other, where count_N is an integer representing \n",
    "the number of times the Nth most common word stem appears in the \n",
    "name or description of this event.  count_other is a count of the \n",
    "rest of the words whose stem wasn't one of the 100 most common stems.\n",
    "\n",
    "event_attendees.csv contains information about which users attended \n",
    "various events, and has the following columns: event_id, yes, maybe, \n",
    "invited, and no. event_id identifies the event. yes, maybe, invited, \n",
    "and no are space-delimited lists of user id's representing users who \n",
    "indicated that they were going, maybe going, invited to, or not going \n",
    "to the event.\n",
    "\"\"\"\n",
    "\n",
    "import pandas as pd\n",
    "import numpy as np\n",
    "import matplotlib.pyplot as plt\n",
    "plt.style.use('fivethirtyeight')\n",
    "import datetime as dt"
   ]
  },
  {
   "cell_type": "code",
   "execution_count": 2,
   "metadata": {
    "scrolled": true
   },
   "outputs": [],
   "source": [
    "train_df = pd.read_csv('./data/30Nov2020/train.csv')\n",
    "test_df = pd.read_csv('./data/30Nov2020/test.csv')\n",
    "users_df = pd.read_csv('./data/30Nov2020/users.csv')\n",
    "user_friends_df = pd.read_csv('./data/30Nov2020/user_friends.csv')\n",
    "events_df = pd.read_csv('./data/30Nov2020/events.csv')\n",
    "event_attendees_df = pd.read_csv('./data/30Nov2020/event_attendees.csv')"
   ]
  },
  {
   "cell_type": "code",
   "execution_count": 3,
   "metadata": {},
   "outputs": [
    {
     "data": {
      "text/html": [
       "<div>\n",
       "<style scoped>\n",
       "    .dataframe tbody tr th:only-of-type {\n",
       "        vertical-align: middle;\n",
       "    }\n",
       "\n",
       "    .dataframe tbody tr th {\n",
       "        vertical-align: top;\n",
       "    }\n",
       "\n",
       "    .dataframe thead th {\n",
       "        text-align: right;\n",
       "    }\n",
       "</style>\n",
       "<table border=\"1\" class=\"dataframe\">\n",
       "  <thead>\n",
       "    <tr style=\"text-align: right;\">\n",
       "      <th></th>\n",
       "      <th>count</th>\n",
       "      <th>mean</th>\n",
       "      <th>std</th>\n",
       "      <th>min</th>\n",
       "      <th>25%</th>\n",
       "      <th>50%</th>\n",
       "      <th>75%</th>\n",
       "      <th>max</th>\n",
       "    </tr>\n",
       "  </thead>\n",
       "  <tbody>\n",
       "    <tr>\n",
       "      <th>invited</th>\n",
       "      <td>15398.0</td>\n",
       "      <td>0.042473</td>\n",
       "      <td>0.201672</td>\n",
       "      <td>0.0</td>\n",
       "      <td>0.0</td>\n",
       "      <td>0.0</td>\n",
       "      <td>0.0</td>\n",
       "      <td>1.0</td>\n",
       "    </tr>\n",
       "    <tr>\n",
       "      <th>interested</th>\n",
       "      <td>15398.0</td>\n",
       "      <td>0.268282</td>\n",
       "      <td>0.443079</td>\n",
       "      <td>0.0</td>\n",
       "      <td>0.0</td>\n",
       "      <td>0.0</td>\n",
       "      <td>1.0</td>\n",
       "      <td>1.0</td>\n",
       "    </tr>\n",
       "    <tr>\n",
       "      <th>not_interested</th>\n",
       "      <td>15398.0</td>\n",
       "      <td>0.033381</td>\n",
       "      <td>0.179635</td>\n",
       "      <td>0.0</td>\n",
       "      <td>0.0</td>\n",
       "      <td>0.0</td>\n",
       "      <td>0.0</td>\n",
       "      <td>1.0</td>\n",
       "    </tr>\n",
       "  </tbody>\n",
       "</table>\n",
       "</div>"
      ],
      "text/plain": [
       "                  count      mean       std  min  25%  50%  75%  max\n",
       "invited         15398.0  0.042473  0.201672  0.0  0.0  0.0  0.0  1.0\n",
       "interested      15398.0  0.268282  0.443079  0.0  0.0  0.0  1.0  1.0\n",
       "not_interested  15398.0  0.033381  0.179635  0.0  0.0  0.0  0.0  1.0"
      ]
     },
     "execution_count": 3,
     "metadata": {},
     "output_type": "execute_result"
    }
   ],
   "source": [
    "train_df.drop(columns=['user', 'event']).describe().T"
   ]
  },
  {
   "cell_type": "markdown",
   "metadata": {},
   "source": [
    "### Random Forest Classifier"
   ]
  },
  {
   "cell_type": "markdown",
   "metadata": {},
   "source": [
    "#### Balance Data Set"
   ]
  },
  {
   "cell_type": "code",
   "execution_count": 4,
   "metadata": {},
   "outputs": [
    {
     "data": {
      "text/plain": [
       "0    14744\n",
       "1      654\n",
       "Name: invited, dtype: int64"
      ]
     },
     "execution_count": 4,
     "metadata": {},
     "output_type": "execute_result"
    }
   ],
   "source": [
    "train_df.invited.value_counts()"
   ]
  },
  {
   "cell_type": "code",
   "execution_count": 5,
   "metadata": {},
   "outputs": [],
   "source": [
    "# learning from: https://elitedatascience.com/imbalanced-classes\n",
    "from sklearn.utils import resample"
   ]
  },
  {
   "cell_type": "code",
   "execution_count": 6,
   "metadata": {},
   "outputs": [],
   "source": [
    "# upsample invited, interested, and not_interested\n",
    "train_df_ = train_df.copy()\n",
    "\n",
    "train_df_.loc[:, 'timestamp'] = pd.to_datetime(train_df_.timestamp).map(dt.datetime.toordinal)\n",
    "\n",
    "invited_major = train_df_[train_df_.invited == 0]\n",
    "invited_minor = train_df_[train_df_.invited == 1]\n",
    "\n",
    "invited_minor_upsampled = resample(invited_minor\n",
    "                                   , replace = True\n",
    "                                   , n_samples = 14744\n",
    "                                   , random_state = 42\n",
    "                                  )\n",
    "\n",
    "train_df_ = pd.concat([invited_major, invited_minor_upsampled])"
   ]
  },
  {
   "cell_type": "code",
   "execution_count": 7,
   "metadata": {
    "scrolled": true
   },
   "outputs": [
    {
     "data": {
      "text/plain": [
       "0    22700\n",
       "1     6788\n",
       "Name: interested, dtype: int64"
      ]
     },
     "execution_count": 7,
     "metadata": {},
     "output_type": "execute_result"
    }
   ],
   "source": [
    "train_df_.interested.value_counts()"
   ]
  },
  {
   "cell_type": "code",
   "execution_count": 8,
   "metadata": {},
   "outputs": [
    {
     "data": {
      "text/plain": [
       "0    28738\n",
       "1      750\n",
       "Name: not_interested, dtype: int64"
      ]
     },
     "execution_count": 8,
     "metadata": {},
     "output_type": "execute_result"
    }
   ],
   "source": [
    "train_df_.not_interested.value_counts()"
   ]
  },
  {
   "cell_type": "code",
   "execution_count": 9,
   "metadata": {},
   "outputs": [],
   "source": [
    "X1_major = train_df_[train_df_.interested == 0]\n",
    "X1_minor = train_df_[train_df_.interested == 1]\n",
    "\n",
    "X1_minor_upsampled = resample(X1_minor\n",
    "                              , replace = True\n",
    "                              , n_samples = 22700\n",
    "                              , random_state = 42\n",
    "                             )\n",
    "\n",
    "X2_major = train_df_[train_df_.not_interested == 0]\n",
    "X2_minor = train_df_[train_df_.not_interested == 1]\n",
    "\n",
    "X2_minor_upsampled = resample(X2_minor\n",
    "                              , replace = True\n",
    "                              , n_samples = 28738\n",
    "                              , random_state = 42\n",
    "                             )\n",
    "\n",
    "X1_upsampled = pd.concat([X1_major, X1_minor_upsampled])\n",
    "X2_upsampled = pd.concat([X2_major, X2_minor_upsampled])"
   ]
  },
  {
   "cell_type": "code",
   "execution_count": null,
   "metadata": {},
   "outputs": [],
   "source": []
  },
  {
   "cell_type": "code",
   "execution_count": 10,
   "metadata": {
    "scrolled": true
   },
   "outputs": [
    {
     "data": {
      "text/plain": [
       "(Index(['user', 'event', 'invited', 'timestamp', 'interested',\n",
       "        'not_interested'],\n",
       "       dtype='object'),\n",
       " Index(['user', 'event', 'invited', 'timestamp', 'interested',\n",
       "        'not_interested'],\n",
       "       dtype='object'))"
      ]
     },
     "execution_count": 10,
     "metadata": {},
     "output_type": "execute_result"
    }
   ],
   "source": [
    "X1_upsampled.columns, X2_upsampled.columns"
   ]
  },
  {
   "cell_type": "code",
   "execution_count": 11,
   "metadata": {},
   "outputs": [
    {
     "data": {
      "text/plain": [
       "1    22700\n",
       "0    22700\n",
       "Name: interested, dtype: int64"
      ]
     },
     "execution_count": 11,
     "metadata": {},
     "output_type": "execute_result"
    }
   ],
   "source": [
    "X1_upsampled.interested.value_counts()"
   ]
  },
  {
   "cell_type": "code",
   "execution_count": 12,
   "metadata": {
    "scrolled": true
   },
   "outputs": [
    {
     "data": {
      "text/plain": [
       "1    28738\n",
       "0    28738\n",
       "Name: not_interested, dtype: int64"
      ]
     },
     "execution_count": 12,
     "metadata": {},
     "output_type": "execute_result"
    }
   ],
   "source": [
    "X2_upsampled.not_interested.value_counts()"
   ]
  },
  {
   "cell_type": "code",
   "execution_count": 13,
   "metadata": {},
   "outputs": [
    {
     "data": {
      "text/plain": [
       "0    24218\n",
       "1    21182\n",
       "Name: invited, dtype: int64"
      ]
     },
     "execution_count": 13,
     "metadata": {},
     "output_type": "execute_result"
    }
   ],
   "source": [
    "X1_upsampled.invited.value_counts()"
   ]
  },
  {
   "cell_type": "code",
   "execution_count": 14,
   "metadata": {},
   "outputs": [],
   "source": [
    "# shuffle using sample\n",
    "X1_upsampled = X1_upsampled.sample(frac=1).reset_index(drop=True)\n",
    "X2_upsampled = X2_upsampled.sample(frac=1).reset_index(drop=True)"
   ]
  },
  {
   "cell_type": "code",
   "execution_count": 15,
   "metadata": {},
   "outputs": [],
   "source": [
    "# shuffle using sklearn.utils.shuffle()\n",
    "from sklearn.utils import shuffle\n",
    "X1_upsampled = shuffle(X1_upsampled)\n",
    "X2_upsampled = shuffle(X2_upsampled)\n",
    "\n",
    "X1_upsampled.reset_index(inplace=True, drop=True)\n",
    "X2_upsampled.reset_index(inplace=True, drop=True)"
   ]
  },
  {
   "cell_type": "code",
   "execution_count": 16,
   "metadata": {},
   "outputs": [
    {
     "data": {
      "text/html": [
       "<div>\n",
       "<style scoped>\n",
       "    .dataframe tbody tr th:only-of-type {\n",
       "        vertical-align: middle;\n",
       "    }\n",
       "\n",
       "    .dataframe tbody tr th {\n",
       "        vertical-align: top;\n",
       "    }\n",
       "\n",
       "    .dataframe thead th {\n",
       "        text-align: right;\n",
       "    }\n",
       "</style>\n",
       "<table border=\"1\" class=\"dataframe\">\n",
       "  <thead>\n",
       "    <tr style=\"text-align: right;\">\n",
       "      <th></th>\n",
       "      <th>user</th>\n",
       "      <th>event</th>\n",
       "      <th>invited</th>\n",
       "      <th>timestamp</th>\n",
       "      <th>interested</th>\n",
       "      <th>not_interested</th>\n",
       "    </tr>\n",
       "  </thead>\n",
       "  <tbody>\n",
       "    <tr>\n",
       "      <th>0</th>\n",
       "      <td>3456890538</td>\n",
       "      <td>587628640</td>\n",
       "      <td>0</td>\n",
       "      <td>734812</td>\n",
       "      <td>1</td>\n",
       "      <td>0</td>\n",
       "    </tr>\n",
       "    <tr>\n",
       "      <th>1</th>\n",
       "      <td>72298333</td>\n",
       "      <td>2498491194</td>\n",
       "      <td>1</td>\n",
       "      <td>734807</td>\n",
       "      <td>0</td>\n",
       "      <td>0</td>\n",
       "    </tr>\n",
       "    <tr>\n",
       "      <th>2</th>\n",
       "      <td>3861589862</td>\n",
       "      <td>3022952629</td>\n",
       "      <td>1</td>\n",
       "      <td>734780</td>\n",
       "      <td>0</td>\n",
       "      <td>0</td>\n",
       "    </tr>\n",
       "    <tr>\n",
       "      <th>3</th>\n",
       "      <td>4206209185</td>\n",
       "      <td>2149464820</td>\n",
       "      <td>0</td>\n",
       "      <td>734807</td>\n",
       "      <td>0</td>\n",
       "      <td>0</td>\n",
       "    </tr>\n",
       "    <tr>\n",
       "      <th>4</th>\n",
       "      <td>3461518589</td>\n",
       "      <td>3178572875</td>\n",
       "      <td>1</td>\n",
       "      <td>734718</td>\n",
       "      <td>1</td>\n",
       "      <td>0</td>\n",
       "    </tr>\n",
       "  </tbody>\n",
       "</table>\n",
       "</div>"
      ],
      "text/plain": [
       "         user       event  invited  timestamp  interested  not_interested\n",
       "0  3456890538   587628640        0     734812           1               0\n",
       "1    72298333  2498491194        1     734807           0               0\n",
       "2  3861589862  3022952629        1     734780           0               0\n",
       "3  4206209185  2149464820        0     734807           0               0\n",
       "4  3461518589  3178572875        1     734718           1               0"
      ]
     },
     "execution_count": 16,
     "metadata": {},
     "output_type": "execute_result"
    }
   ],
   "source": [
    "X1_upsampled.head()"
   ]
  },
  {
   "cell_type": "code",
   "execution_count": 17,
   "metadata": {},
   "outputs": [],
   "source": [
    "from sklearn.model_selection import train_test_split"
   ]
  },
  {
   "cell_type": "code",
   "execution_count": 18,
   "metadata": {},
   "outputs": [],
   "source": [
    "X1_train, X1_test, y1_train, y1_test = train_test_split(X1_upsampled.drop(columns = ['interested', 'not_interested'])\n",
    "                                                        , X1_upsampled.interested\n",
    "                                                        , test_size = 0.1\n",
    "                                                        , random_state = 42\n",
    "                                                       )\n",
    "\n",
    "X2_train, X2_test, y2_train, y2_test = train_test_split(X2_upsampled.drop(columns = ['interested', 'not_interested'])\n",
    "                                                        , X2_upsampled.not_interested\n",
    "                                                        , test_size = 0.1\n",
    "                                                        , random_state = 42\n",
    "                                                       )"
   ]
  },
  {
   "cell_type": "code",
   "execution_count": 19,
   "metadata": {},
   "outputs": [
    {
     "data": {
      "text/html": [
       "<div>\n",
       "<style scoped>\n",
       "    .dataframe tbody tr th:only-of-type {\n",
       "        vertical-align: middle;\n",
       "    }\n",
       "\n",
       "    .dataframe tbody tr th {\n",
       "        vertical-align: top;\n",
       "    }\n",
       "\n",
       "    .dataframe thead th {\n",
       "        text-align: right;\n",
       "    }\n",
       "</style>\n",
       "<table border=\"1\" class=\"dataframe\">\n",
       "  <thead>\n",
       "    <tr style=\"text-align: right;\">\n",
       "      <th></th>\n",
       "      <th>user</th>\n",
       "      <th>event</th>\n",
       "      <th>invited</th>\n",
       "      <th>timestamp</th>\n",
       "    </tr>\n",
       "  </thead>\n",
       "  <tbody>\n",
       "    <tr>\n",
       "      <th>5598</th>\n",
       "      <td>3180412264</td>\n",
       "      <td>2597005766</td>\n",
       "      <td>0</td>\n",
       "      <td>734805</td>\n",
       "    </tr>\n",
       "    <tr>\n",
       "      <th>21286</th>\n",
       "      <td>3180412264</td>\n",
       "      <td>4228454268</td>\n",
       "      <td>0</td>\n",
       "      <td>734805</td>\n",
       "    </tr>\n",
       "    <tr>\n",
       "      <th>35501</th>\n",
       "      <td>2187693519</td>\n",
       "      <td>1065552764</td>\n",
       "      <td>1</td>\n",
       "      <td>734806</td>\n",
       "    </tr>\n",
       "  </tbody>\n",
       "</table>\n",
       "</div>"
      ],
      "text/plain": [
       "             user       event  invited  timestamp\n",
       "5598   3180412264  2597005766        0     734805\n",
       "21286  3180412264  4228454268        0     734805\n",
       "35501  2187693519  1065552764        1     734806"
      ]
     },
     "execution_count": 19,
     "metadata": {},
     "output_type": "execute_result"
    }
   ],
   "source": [
    "X2_train.head(3)"
   ]
  },
  {
   "cell_type": "code",
   "execution_count": 20,
   "metadata": {},
   "outputs": [
    {
     "data": {
      "text/plain": [
       "RandomForestClassifier()"
      ]
     },
     "execution_count": 20,
     "metadata": {},
     "output_type": "execute_result"
    }
   ],
   "source": [
    "from sklearn.ensemble import RandomForestClassifier\n",
    "rfc1 = RandomForestClassifier()\n",
    "rfc1.fit(X1_train, y1_train)\n",
    "rfc2 = RandomForestClassifier()\n",
    "rfc2.fit(X2_train, y2_train)"
   ]
  },
  {
   "cell_type": "markdown",
   "metadata": {},
   "source": [
    "### Random Forest Classifier Metrics"
   ]
  },
  {
   "cell_type": "code",
   "execution_count": 21,
   "metadata": {},
   "outputs": [],
   "source": [
    "y1_probs = rfc1.predict_proba(X1_test)[:, 1]\n",
    "y2_probs = rfc2.predict_proba(X2_test)[:, 1]"
   ]
  },
  {
   "cell_type": "code",
   "execution_count": 22,
   "metadata": {},
   "outputs": [
    {
     "name": "stdout",
     "output_type": "stream",
     "text": [
      "[0.72 0.   0.47 1.   1.   0.55 0.   1.   1.   1.  ]\n",
      "[0. 1. 1. 0. 1. 1. 1. 0. 0. 1.]\n"
     ]
    }
   ],
   "source": [
    "print(y1_probs[:10])\n",
    "print(y2_probs[:10])"
   ]
  },
  {
   "cell_type": "code",
   "execution_count": 23,
   "metadata": {},
   "outputs": [
    {
     "name": "stdout",
     "output_type": "stream",
     "text": [
      "Cross-Validation Score for interested: 0.9406387186826214\n",
      "Cross-Validation Score for not interested: 0.9971118246589002\n"
     ]
    }
   ],
   "source": [
    "from sklearn.model_selection import cross_val_score\n",
    "cval1 = cross_val_score(rfc1\n",
    "                       , X1_upsampled.drop(columns = ['interested', 'not_interested'])\n",
    "                       , X1_upsampled.interested\n",
    "                       , scoring='accuracy'\n",
    "                       , cv=7\n",
    "                      )\n",
    "\n",
    "print(f'Cross-Validation Score for interested: {np.mean(cval1)}')\n",
    "\n",
    "cval2 = cross_val_score(rfc2\n",
    "                       , X2_upsampled.drop(columns = ['interested', 'not_interested'])\n",
    "                       , X2_upsampled.not_interested\n",
    "                       , scoring='accuracy'\n",
    "                       , cv=7\n",
    "                      )\n",
    "\n",
    "print(f'Cross-Validation Score for not interested: {np.mean(cval2)}')"
   ]
  },
  {
   "cell_type": "code",
   "execution_count": 24,
   "metadata": {},
   "outputs": [],
   "source": [
    "from sklearn.metrics import (roc_auc_score\n",
    "                             , precision_score\n",
    "                             , recall_score\n",
    "                             , roc_curve\n",
    "                             , confusion_matrix\n",
    "                             , plot_confusion_matrix\n",
    "                             , precision_recall_curve\n",
    "                             , auc\n",
    "                            )"
   ]
  },
  {
   "cell_type": "markdown",
   "metadata": {},
   "source": [
    "#### ROC Curves"
   ]
  },
  {
   "cell_type": "code",
   "execution_count": 25,
   "metadata": {},
   "outputs": [
    {
     "data": {
      "text/plain": [
       "0.9925734853238988"
      ]
     },
     "execution_count": 25,
     "metadata": {},
     "output_type": "execute_result"
    }
   ],
   "source": [
    "roc_score1 = roc_auc_score(y1_test\n",
    "                          , y1_probs\n",
    "                         )\n",
    "roc_score1"
   ]
  },
  {
   "cell_type": "code",
   "execution_count": 26,
   "metadata": {},
   "outputs": [
    {
     "data": {
      "image/png": "[encoded data removed]",
      "text/plain": [
       "<Figure size 720x504 with 1 Axes>"
      ]
     },
     "metadata": {},
     "output_type": "display_data"
    }
   ],
   "source": [
    "symbol1 = 'Interested'\n",
    "plt.rcParams['font.size'] = 16\n",
    "plt.figure(figsize=(10,7))\n",
    "\n",
    "# No Skill Line Data\n",
    "base_fpr, base_tpr, _ = roc_curve(y1_test\n",
    "                                  , [1 for _ in range(len(y1_test))]\n",
    "                                 ) \n",
    "\n",
    "# Model Data\n",
    "model_fpr, model_tpr, _ = roc_curve(y1_test\n",
    "                                    , y1_probs\n",
    "                                   )\n",
    "\n",
    "plt.plot(base_fpr\n",
    "         , base_tpr\n",
    "         , 'b'\n",
    "         , label='No Skill'\n",
    "        )\n",
    "\n",
    "plt.plot(model_fpr\n",
    "         , model_tpr\n",
    "         , 'r'\n",
    "         , label='RFC Model'\n",
    "        )\n",
    "\n",
    "plt.xlabel('False Positive Rate')\n",
    "plt.ylabel('True Positive Rate')\n",
    "plt.title(f'{symbol1} ROC Curve, Accuracy: {round(roc_score1, 3)}')\n",
    "plt.legend();"
   ]
  },
  {
   "cell_type": "code",
   "execution_count": 27,
   "metadata": {},
   "outputs": [
    {
     "data": {
      "text/plain": [
       "1.0"
      ]
     },
     "execution_count": 27,
     "metadata": {},
     "output_type": "execute_result"
    }
   ],
   "source": [
    "roc_score2 = roc_auc_score(y2_test\n",
    "                          , y2_probs\n",
    "                         )\n",
    "roc_score2"
   ]
  },
  {
   "cell_type": "code",
   "execution_count": 28,
   "metadata": {},
   "outputs": [
    {
     "data": {
      "image/png": "[encoded data removed]",
      "text/plain": [
       "<Figure size 720x504 with 1 Axes>"
      ]
     },
     "metadata": {},
     "output_type": "display_data"
    }
   ],
   "source": [
    "symbol2 = 'Not Interested'\n",
    "plt.rcParams['font.size'] = 16\n",
    "plt.figure(figsize=(10,7))\n",
    "\n",
    "# No Skill Line Data\n",
    "base_fpr, base_tpr, _ = roc_curve(y2_test\n",
    "                                  , [1 for _ in range(len(y2_test))]\n",
    "                                 ) \n",
    "\n",
    "# Model Data\n",
    "model_fpr, model_tpr, _ = roc_curve(y2_test\n",
    "                                    , y2_probs\n",
    "                                   )\n",
    "\n",
    "plt.plot(base_fpr\n",
    "         , base_tpr\n",
    "         , 'b'\n",
    "         , label='No Skill'\n",
    "        )\n",
    "\n",
    "plt.plot(model_fpr\n",
    "         , model_tpr\n",
    "         , 'r'\n",
    "         , label='RFC Model'\n",
    "        )\n",
    "\n",
    "plt.xlabel('False Positive Rate')\n",
    "plt.ylabel('True Positive Rate')\n",
    "plt.title(f'{symbol2} ROC Curve, Accuracy: {round(roc_score2, 3)}')\n",
    "plt.legend();"
   ]
  },
  {
   "cell_type": "markdown",
   "metadata": {},
   "source": [
    "#### Precision Recall Curve"
   ]
  },
  {
   "cell_type": "code",
   "execution_count": 29,
   "metadata": {},
   "outputs": [
    {
     "data": {
      "text/plain": [
       "0.9934178720436074"
      ]
     },
     "execution_count": 29,
     "metadata": {},
     "output_type": "execute_result"
    }
   ],
   "source": [
    "# Precision Recall Data\n",
    "rf_prec, rf_recall, _ = precision_recall_curve(y1_test\n",
    "                                             , y1_probs\n",
    "                                            )\n",
    "\n",
    "auc_score1 = auc(rf_recall, rf_prec)\n",
    "auc_score1"
   ]
  },
  {
   "cell_type": "code",
   "execution_count": 30,
   "metadata": {},
   "outputs": [
    {
     "data": {
      "image/png": "[encoded data removed]",
      "text/plain": [
       "<Figure size 720x576 with 1 Axes>"
      ]
     },
     "metadata": {},
     "output_type": "display_data"
    }
   ],
   "source": [
    "plt.rcParams['font.size'] = 16\n",
    "plt.rcParams['figure.figsize'] = (10, 8)\n",
    "\n",
    "\n",
    "\n",
    "# No Skill Line\n",
    "plt.plot([0, 0]\n",
    "         , linestyle = '--'\n",
    "         , color = 'b'\n",
    "         , label = 'No Skill'\n",
    "        )\n",
    "\n",
    "# PR Line\n",
    "plt.plot(rf_recall\n",
    "         , rf_prec\n",
    "         , color = 'r'\n",
    "         , label = 'Random Forest'\n",
    "        )\n",
    "\n",
    "plt.xlabel('Recall')\n",
    "plt.ylabel('Precision')\n",
    "plt.title(f'{symbol1} Precision-Recall Curve, Accuracy: {round(auc_score1, 3)}')\n",
    "plt.legend(loc='center left');"
   ]
  },
  {
   "cell_type": "code",
   "execution_count": 31,
   "metadata": {},
   "outputs": [
    {
     "data": {
      "text/plain": [
       "1.0"
      ]
     },
     "execution_count": 31,
     "metadata": {},
     "output_type": "execute_result"
    }
   ],
   "source": [
    "# Precision Recall Data\n",
    "rf_prec, rf_recall, _ = precision_recall_curve(y2_test\n",
    "                                             , y2_probs\n",
    "                                            )\n",
    "\n",
    "auc_score2 = auc(rf_recall, rf_prec)\n",
    "auc_score2"
   ]
  },
  {
   "cell_type": "code",
   "execution_count": 32,
   "metadata": {},
   "outputs": [
    {
     "data": {
      "image/png": "[encoded data removed]",
      "text/plain": [
       "<Figure size 720x576 with 1 Axes>"
      ]
     },
     "metadata": {},
     "output_type": "display_data"
    }
   ],
   "source": [
    "plt.rcParams['font.size'] = 16\n",
    "plt.rcParams['figure.figsize'] = (10, 8)\n",
    "\n",
    "\n",
    "\n",
    "# No Skill Line\n",
    "plt.plot([0, 0]\n",
    "         , linestyle = '--'\n",
    "         , color = 'b'\n",
    "         , label = 'No Skill'\n",
    "        )\n",
    "\n",
    "# PR Line\n",
    "plt.plot(rf_recall\n",
    "         , rf_prec\n",
    "         , color = 'r'\n",
    "         , label = 'Random Forest'\n",
    "        )\n",
    "\n",
    "plt.xlabel('Recall')\n",
    "plt.ylabel('Precision')\n",
    "plt.title(f'{symbol2} Precision-Recall Curve, Accuracy: {round(auc_score2, 3)}')\n",
    "plt.legend(loc='center left');"
   ]
  },
  {
   "cell_type": "markdown",
   "metadata": {},
   "source": [
    "### Make Predictions"
   ]
  },
  {
   "cell_type": "code",
   "execution_count": 33,
   "metadata": {},
   "outputs": [
    {
     "data": {
      "text/plain": [
       "Index(['user', 'event', 'invited', 'timestamp'], dtype='object')"
      ]
     },
     "execution_count": 33,
     "metadata": {},
     "output_type": "execute_result"
    }
   ],
   "source": [
    "test_df.columns"
   ]
  },
  {
   "cell_type": "code",
   "execution_count": 34,
   "metadata": {},
   "outputs": [],
   "source": [
    "test_df.loc[:, 'timestamp'] = pd.to_datetime(test_df.timestamp).map(dt.datetime.toordinal)"
   ]
  },
  {
   "cell_type": "code",
   "execution_count": 35,
   "metadata": {},
   "outputs": [],
   "source": [
    "test_df_rfc1 = test_df.copy()\n",
    "test_df_rfc2 = test_df.copy()\n",
    "test_df['interested'] = rfc1.predict(test_df_rfc1)\n",
    "test_df['not_interested'] = rfc2.predict(test_df_rfc2)"
   ]
  },
  {
   "cell_type": "code",
   "execution_count": 36,
   "metadata": {},
   "outputs": [
    {
     "data": {
      "text/html": [
       "<div>\n",
       "<style scoped>\n",
       "    .dataframe tbody tr th:only-of-type {\n",
       "        vertical-align: middle;\n",
       "    }\n",
       "\n",
       "    .dataframe tbody tr th {\n",
       "        vertical-align: top;\n",
       "    }\n",
       "\n",
       "    .dataframe thead th {\n",
       "        text-align: right;\n",
       "    }\n",
       "</style>\n",
       "<table border=\"1\" class=\"dataframe\">\n",
       "  <thead>\n",
       "    <tr style=\"text-align: right;\">\n",
       "      <th></th>\n",
       "      <th>user</th>\n",
       "      <th>event</th>\n",
       "      <th>invited</th>\n",
       "      <th>timestamp</th>\n",
       "      <th>interested</th>\n",
       "      <th>not_interested</th>\n",
       "    </tr>\n",
       "  </thead>\n",
       "  <tbody>\n",
       "    <tr>\n",
       "      <th>6279</th>\n",
       "      <td>2664817652</td>\n",
       "      <td>2529072432</td>\n",
       "      <td>0</td>\n",
       "      <td>734778</td>\n",
       "      <td>1</td>\n",
       "      <td>0</td>\n",
       "    </tr>\n",
       "    <tr>\n",
       "      <th>2530</th>\n",
       "      <td>1027602768</td>\n",
       "      <td>771676713</td>\n",
       "      <td>0</td>\n",
       "      <td>734799</td>\n",
       "      <td>1</td>\n",
       "      <td>0</td>\n",
       "    </tr>\n",
       "    <tr>\n",
       "      <th>695</th>\n",
       "      <td>237595480</td>\n",
       "      <td>798216299</td>\n",
       "      <td>1</td>\n",
       "      <td>734710</td>\n",
       "      <td>0</td>\n",
       "      <td>0</td>\n",
       "    </tr>\n",
       "    <tr>\n",
       "      <th>498</th>\n",
       "      <td>182290053</td>\n",
       "      <td>2529072432</td>\n",
       "      <td>0</td>\n",
       "      <td>734802</td>\n",
       "      <td>0</td>\n",
       "      <td>0</td>\n",
       "    </tr>\n",
       "    <tr>\n",
       "      <th>3731</th>\n",
       "      <td>1548827068</td>\n",
       "      <td>776270146</td>\n",
       "      <td>0</td>\n",
       "      <td>734787</td>\n",
       "      <td>0</td>\n",
       "      <td>0</td>\n",
       "    </tr>\n",
       "  </tbody>\n",
       "</table>\n",
       "</div>"
      ],
      "text/plain": [
       "            user       event  invited  timestamp  interested  not_interested\n",
       "6279  2664817652  2529072432        0     734778           1               0\n",
       "2530  1027602768   771676713        0     734799           1               0\n",
       "695    237595480   798216299        1     734710           0               0\n",
       "498    182290053  2529072432        0     734802           0               0\n",
       "3731  1548827068   776270146        0     734787           0               0"
      ]
     },
     "execution_count": 36,
     "metadata": {},
     "output_type": "execute_result"
    }
   ],
   "source": [
    "test_df.sample(5)"
   ]
  },
  {
   "cell_type": "code",
   "execution_count": null,
   "metadata": {},
   "outputs": [],
   "source": []
  }
 ],
 "metadata": {
  "kernelspec": {
   "display_name": "Python 3",
   "language": "python",
   "name": "python3"
  },
  "language_info": {
   "codemirror_mode": {
    "name": "ipython",
    "version": 3
   },
   "file_extension": ".py",
   "mimetype": "text/x-python",
   "name": "python",
   "nbconvert_exporter": "python",
   "pygments_lexer": "ipython3",
   "version": "3.8.5"
  }
 },
 "nbformat": 4,
 "nbformat_minor": 4
}
