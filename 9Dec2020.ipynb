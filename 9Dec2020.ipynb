{
 "cells": [
  {
   "cell_type": "code",
   "execution_count": 1,
   "metadata": {},
   "outputs": [],
   "source": [
    "import pandas as pd\n",
    "import numpy as np\n",
    "import matplotlib.pyplot as plt\n",
    "plt.style.use('fivethirtyeight')"
   ]
  },
  {
   "cell_type": "code",
   "execution_count": 2,
   "metadata": {},
   "outputs": [
    {
     "data": {
      "text/html": [
       "<div>\n",
       "<style scoped>\n",
       "    .dataframe tbody tr th:only-of-type {\n",
       "        vertical-align: middle;\n",
       "    }\n",
       "\n",
       "    .dataframe tbody tr th {\n",
       "        vertical-align: top;\n",
       "    }\n",
       "\n",
       "    .dataframe thead th {\n",
       "        text-align: right;\n",
       "    }\n",
       "</style>\n",
       "<table border=\"1\" class=\"dataframe\">\n",
       "  <thead>\n",
       "    <tr style=\"text-align: right;\">\n",
       "      <th></th>\n",
       "      <th>event_id</th>\n",
       "      <th>attendee_id</th>\n",
       "      <th>order_id</th>\n",
       "      <th>purchase_quad</th>\n",
       "      <th>purchase_type</th>\n",
       "      <th>spend_cat</th>\n",
       "      <th>age_cat</th>\n",
       "      <th>gender_cat</th>\n",
       "      <th>attendee_frequency</th>\n",
       "      <th>attendee_zip</th>\n",
       "      <th>Latitude</th>\n",
       "      <th>Longitude</th>\n",
       "    </tr>\n",
       "  </thead>\n",
       "  <tbody>\n",
       "    <tr>\n",
       "      <th>3729772</th>\n",
       "      <td>48</td>\n",
       "      <td>7367</td>\n",
       "      <td>10053</td>\n",
       "      <td>2</td>\n",
       "      <td>0</td>\n",
       "      <td>2</td>\n",
       "      <td>0</td>\n",
       "      <td>0</td>\n",
       "      <td>1</td>\n",
       "      <td>11691</td>\n",
       "      <td>40.600020</td>\n",
       "      <td>-73.759620</td>\n",
       "    </tr>\n",
       "    <tr>\n",
       "      <th>547684</th>\n",
       "      <td>23</td>\n",
       "      <td>388345</td>\n",
       "      <td>3860</td>\n",
       "      <td>4</td>\n",
       "      <td>1</td>\n",
       "      <td>0</td>\n",
       "      <td>3</td>\n",
       "      <td>1</td>\n",
       "      <td>1</td>\n",
       "      <td>18623</td>\n",
       "      <td>41.653217</td>\n",
       "      <td>-76.148700</td>\n",
       "    </tr>\n",
       "    <tr>\n",
       "      <th>2041913</th>\n",
       "      <td>36</td>\n",
       "      <td>48576</td>\n",
       "      <td>44023</td>\n",
       "      <td>1</td>\n",
       "      <td>0</td>\n",
       "      <td>0</td>\n",
       "      <td>0</td>\n",
       "      <td>0</td>\n",
       "      <td>1</td>\n",
       "      <td>98531</td>\n",
       "      <td>46.728383</td>\n",
       "      <td>-122.951420</td>\n",
       "    </tr>\n",
       "    <tr>\n",
       "      <th>4949399</th>\n",
       "      <td>9</td>\n",
       "      <td>359650</td>\n",
       "      <td>3404</td>\n",
       "      <td>2</td>\n",
       "      <td>1</td>\n",
       "      <td>2</td>\n",
       "      <td>3</td>\n",
       "      <td>1</td>\n",
       "      <td>2</td>\n",
       "      <td>61018</td>\n",
       "      <td>42.403305</td>\n",
       "      <td>-89.554660</td>\n",
       "    </tr>\n",
       "    <tr>\n",
       "      <th>1318768</th>\n",
       "      <td>30</td>\n",
       "      <td>42677</td>\n",
       "      <td>26708</td>\n",
       "      <td>1</td>\n",
       "      <td>0</td>\n",
       "      <td>1</td>\n",
       "      <td>0</td>\n",
       "      <td>1</td>\n",
       "      <td>1</td>\n",
       "      <td>76034</td>\n",
       "      <td>32.885062</td>\n",
       "      <td>-97.149230</td>\n",
       "    </tr>\n",
       "    <tr>\n",
       "      <th>1084028</th>\n",
       "      <td>28</td>\n",
       "      <td>46921</td>\n",
       "      <td>17195</td>\n",
       "      <td>1</td>\n",
       "      <td>1</td>\n",
       "      <td>1</td>\n",
       "      <td>0</td>\n",
       "      <td>0</td>\n",
       "      <td>2</td>\n",
       "      <td>98382</td>\n",
       "      <td>48.079979</td>\n",
       "      <td>-123.099160</td>\n",
       "    </tr>\n",
       "    <tr>\n",
       "      <th>4934400</th>\n",
       "      <td>9</td>\n",
       "      <td>17943</td>\n",
       "      <td>17071</td>\n",
       "      <td>2</td>\n",
       "      <td>0</td>\n",
       "      <td>2</td>\n",
       "      <td>0</td>\n",
       "      <td>1</td>\n",
       "      <td>1</td>\n",
       "      <td>98237</td>\n",
       "      <td>48.497601</td>\n",
       "      <td>-121.700180</td>\n",
       "    </tr>\n",
       "    <tr>\n",
       "      <th>759551</th>\n",
       "      <td>25</td>\n",
       "      <td>38239</td>\n",
       "      <td>9668</td>\n",
       "      <td>3</td>\n",
       "      <td>0</td>\n",
       "      <td>1</td>\n",
       "      <td>0</td>\n",
       "      <td>0</td>\n",
       "      <td>1</td>\n",
       "      <td>81138</td>\n",
       "      <td>37.197731</td>\n",
       "      <td>-105.429395</td>\n",
       "    </tr>\n",
       "    <tr>\n",
       "      <th>1061136</th>\n",
       "      <td>28</td>\n",
       "      <td>324322</td>\n",
       "      <td>24723</td>\n",
       "      <td>3</td>\n",
       "      <td>0</td>\n",
       "      <td>0</td>\n",
       "      <td>2</td>\n",
       "      <td>0</td>\n",
       "      <td>1</td>\n",
       "      <td>93610</td>\n",
       "      <td>37.100417</td>\n",
       "      <td>-120.278640</td>\n",
       "    </tr>\n",
       "    <tr>\n",
       "      <th>927500</th>\n",
       "      <td>27</td>\n",
       "      <td>38019</td>\n",
       "      <td>36204</td>\n",
       "      <td>2</td>\n",
       "      <td>1</td>\n",
       "      <td>2</td>\n",
       "      <td>0</td>\n",
       "      <td>0</td>\n",
       "      <td>2</td>\n",
       "      <td>54061</td>\n",
       "      <td>44.393405</td>\n",
       "      <td>-88.725880</td>\n",
       "    </tr>\n",
       "  </tbody>\n",
       "</table>\n",
       "</div>"
      ],
      "text/plain": [
       "         event_id  attendee_id  order_id  purchase_quad  purchase_type  \\\n",
       "3729772        48         7367     10053              2              0   \n",
       "547684         23       388345      3860              4              1   \n",
       "2041913        36        48576     44023              1              0   \n",
       "4949399         9       359650      3404              2              1   \n",
       "1318768        30        42677     26708              1              0   \n",
       "1084028        28        46921     17195              1              1   \n",
       "4934400         9        17943     17071              2              0   \n",
       "759551         25        38239      9668              3              0   \n",
       "1061136        28       324322     24723              3              0   \n",
       "927500         27        38019     36204              2              1   \n",
       "\n",
       "         spend_cat  age_cat  gender_cat  attendee_frequency  attendee_zip  \\\n",
       "3729772          2        0           0                   1         11691   \n",
       "547684           0        3           1                   1         18623   \n",
       "2041913          0        0           0                   1         98531   \n",
       "4949399          2        3           1                   2         61018   \n",
       "1318768          1        0           1                   1         76034   \n",
       "1084028          1        0           0                   2         98382   \n",
       "4934400          2        0           1                   1         98237   \n",
       "759551           1        0           0                   1         81138   \n",
       "1061136          0        2           0                   1         93610   \n",
       "927500           2        0           0                   2         54061   \n",
       "\n",
       "          Latitude   Longitude  \n",
       "3729772  40.600020  -73.759620  \n",
       "547684   41.653217  -76.148700  \n",
       "2041913  46.728383 -122.951420  \n",
       "4949399  42.403305  -89.554660  \n",
       "1318768  32.885062  -97.149230  \n",
       "1084028  48.079979 -123.099160  \n",
       "4934400  48.497601 -121.700180  \n",
       "759551   37.197731 -105.429395  \n",
       "1061136  37.100417 -120.278640  \n",
       "927500   44.393405  -88.725880  "
      ]
     },
     "execution_count": 2,
     "metadata": {},
     "output_type": "execute_result"
    }
   ],
   "source": [
    "data = pd.read_csv('./data/event_transactions_CB.csv')\n",
    "data.sample(10)"
   ]
  },
  {
   "cell_type": "code",
   "execution_count": 3,
   "metadata": {},
   "outputs": [
    {
     "data": {
      "text/plain": [
       "(4955031, 12)"
      ]
     },
     "execution_count": 3,
     "metadata": {},
     "output_type": "execute_result"
    }
   ],
   "source": [
    "data.shape"
   ]
  },
  {
   "cell_type": "code",
   "execution_count": 4,
   "metadata": {},
   "outputs": [
    {
     "data": {
      "text/plain": [
       "Index(['event_id', 'attendee_id', 'order_id', 'purchase_quad', 'purchase_type',\n",
       "       'spend_cat', 'age_cat', 'gender_cat', 'attendee_frequency',\n",
       "       'attendee_zip', 'Latitude', 'Longitude'],\n",
       "      dtype='object')"
      ]
     },
     "execution_count": 4,
     "metadata": {},
     "output_type": "execute_result"
    }
   ],
   "source": [
    "data.columns"
   ]
  },
  {
   "cell_type": "code",
   "execution_count": 23,
   "metadata": {},
   "outputs": [],
   "source": [
    "def value_counts_sorted(series):\n",
    "    vc = series.value_counts().sort_values(ascending = False)\n",
    "    n = len(vc)\n",
    "    return n, vc.index, vc.values    "
   ]
  },
  {
   "cell_type": "code",
   "execution_count": 24,
   "metadata": {},
   "outputs": [],
   "source": [
    "n, ids, vals = value_counts_sorted(data.event_id)"
   ]
  },
  {
   "cell_type": "code",
   "execution_count": 25,
   "metadata": {},
   "outputs": [
    {
     "data": {
      "text/plain": [
       "53"
      ]
     },
     "execution_count": 25,
     "metadata": {},
     "output_type": "execute_result"
    }
   ],
   "source": [
    "n"
   ]
  },
  {
   "cell_type": "code",
   "execution_count": 26,
   "metadata": {
    "scrolled": true
   },
   "outputs": [
    {
     "data": {
      "text/plain": [
       "54    273573\n",
       "39    273573\n",
       "49    159528\n",
       "37    159528\n",
       "34    159528\n",
       "36    159528\n",
       "51    159528\n",
       "52    159528\n",
       "53    153600\n",
       "44    153600\n",
       "38    153600\n",
       "29    153600\n",
       "33    148524\n",
       "50    148524\n",
       "48    148524\n",
       "35    148524\n",
       "47    132678\n",
       "32    132678\n",
       "20    130845\n",
       "27    127101\n",
       "42    127101\n",
       "19    109923\n",
       "40     99318\n",
       "31     99318\n",
       "25     99318\n",
       "46     99318\n",
       "23     99063\n",
       "26     77076\n",
       "28     77076\n",
       "30     77076\n",
       "41     77076\n",
       "43     77076\n",
       "45     77076\n",
       "24     76563\n",
       "22     76563\n",
       "10     54321\n",
       "8      51357\n",
       "9      49986\n",
       "1      22755\n",
       "18     21567\n",
       "7      20328\n",
       "16     19623\n",
       "17     19101\n",
       "12     17334\n",
       "5      16149\n",
       "11     14082\n",
       "15     11841\n",
       "2      11841\n",
       "14     10662\n",
       "21      9435\n",
       "4       7242\n",
       "13      6651\n",
       "3       5703\n",
       "Name: event_id, dtype: int64"
      ]
     },
     "execution_count": 26,
     "metadata": {},
     "output_type": "execute_result"
    }
   ],
   "source": [
    "data.event_id.value_counts().sort_values(ascending = False)"
   ]
  },
  {
   "cell_type": "code",
   "execution_count": 27,
   "metadata": {},
   "outputs": [
    {
     "data": {
      "text/plain": [
       "array([273573, 273573, 159528, 159528, 159528, 159528, 159528, 159528,\n",
       "       153600, 153600, 153600, 153600, 148524, 148524, 148524, 148524,\n",
       "       132678, 132678, 130845, 127101, 127101, 109923,  99318,  99318,\n",
       "        99318,  99318,  99063,  77076,  77076,  77076,  77076,  77076,\n",
       "        77076,  76563,  76563,  54321,  51357,  49986,  22755,  21567,\n",
       "        20328,  19623,  19101,  17334,  16149,  14082,  11841,  11841,\n",
       "        10662,   9435,   7242,   6651,   5703])"
      ]
     },
     "execution_count": 27,
     "metadata": {},
     "output_type": "execute_result"
    }
   ],
   "source": [
    "vals"
   ]
  },
  {
   "cell_type": "code",
   "execution_count": null,
   "metadata": {},
   "outputs": [],
   "source": []
  }
 ],
 "metadata": {
  "kernelspec": {
   "display_name": "Python 3",
   "language": "python",
   "name": "python3"
  },
  "language_info": {
   "codemirror_mode": {
    "name": "ipython",
    "version": 3
   },
   "file_extension": ".py",
   "mimetype": "text/x-python",
   "name": "python",
   "nbconvert_exporter": "python",
   "pygments_lexer": "ipython3",
   "version": "3.8.5"
  }
 },
 "nbformat": 4,
 "nbformat_minor": 4
}
