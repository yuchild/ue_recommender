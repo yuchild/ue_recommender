{
 "cells": [
  {
   "cell_type": "code",
   "execution_count": null,
   "metadata": {},
   "outputs": [],
   "source": [
    "import pandas as pd\n",
    "import numpy as np\n",
    "import matplotlib.pyplot as plt\n",
    "plt.style.use('fivethirtyeight')\n",
    "from matplotlib import rcParams, cm"
   ]
  },
  {
   "cell_type": "code",
   "execution_count": null,
   "metadata": {},
   "outputs": [],
   "source": [
    "data = pd.read_csv('./data/event_transactions_CB.csv')\n",
    "data.sample(10)"
   ]
  },
  {
   "cell_type": "code",
   "execution_count": null,
   "metadata": {},
   "outputs": [],
   "source": [
    "data.shape"
   ]
  },
  {
   "cell_type": "code",
   "execution_count": null,
   "metadata": {},
   "outputs": [],
   "source": [
    "import tensorflow as tf\n",
    "from tensorflow import keras\n",
    "from tensorflow.keras import layers"
   ]
  },
  {
   "cell_type": "code",
   "execution_count": null,
   "metadata": {},
   "outputs": [],
   "source": [
    "df = data.sample(frac=1, random_state=42) # shuffle the data\n",
    "x = data[[\"attendee_id\", \"purchase_quad\"]].values\n",
    "\n",
    "# Normalize the targets between 0 and 1. Makes it easy to train.\n",
    "y = data[\"purchase_type\"].apply(lambda x: (x - data.purchase_type.min()) / (data.purchase_type.max() - data.purchase_type.min())).values # normalizes the target\n",
    "\n",
    "# Assuming training on 90% of the data and validating on 10%.\n",
    "train_indices = int(0.9 * data.shape[0])\n",
    "x_train, x_val, y_train, y_val = (\n",
    "    x[:train_indices],\n",
    "    x[train_indices:],\n",
    "    y[:train_indices],\n",
    "    y[train_indices:],\n",
    ")"
   ]
  },
  {
   "cell_type": "code",
   "execution_count": null,
   "metadata": {},
   "outputs": [],
   "source": [
    "EMBEDDING_SIZE = 50\n",
    "\n",
    "\n",
    "class RecommenderNet(keras.Model):\n",
    "    def __init__(self, num_attendee, num_type, embedding_size, **kwargs):\n",
    "        super(RecommenderNet, self).__init__(**kwargs)\n",
    "        self.num_attendee = num_attendee\n",
    "        self.num_type = num_type\n",
    "        self.embedding_size = embedding_size\n",
    "        self.attendee_embedding = layers.Embedding(\n",
    "            num_attendee,\n",
    "            embedding_size,\n",
    "            embeddings_initializer=\"he_normal\",\n",
    "            embeddings_regularizer=keras.regularizers.l2(1e-6),\n",
    "        )\n",
    "        self.attendee_bias = layers.Embedding(num_attendee, 1)\n",
    "        self.quad_embedding = layers.Embedding(\n",
    "            num_type,\n",
    "            embedding_size,\n",
    "            embeddings_initializer=\"he_normal\",\n",
    "            embeddings_regularizer=keras.regularizers.l2(1e-6),\n",
    "        )\n",
    "        self.quad_bias = layers.Embedding(num_type, 1)\n",
    "\n",
    "    def call(self, inputs):\n",
    "        attendee_vector = self.attendee_embedding(inputs[:, 0])\n",
    "        attendee_bias = self.attendee_bias(inputs[:, 0])\n",
    "        quad_vector = self.quad_embedding(inputs[:, 1])\n",
    "        quad_bias = self.quad_bias(inputs[:, 1])\n",
    "        dot_attendee_quad = tf.tensordot(attendee_vector, quad_vector, 2)\n",
    "        # Add all the components (including bias)\n",
    "        x = dot_attendee_quad + attendee_bias + quad_bias\n",
    "        # The sigmoid activation forces the rating to between 0 and 1\n",
    "        return tf.nn.sigmoid(x)"
   ]
  },
  {
   "cell_type": "code",
   "execution_count": null,
   "metadata": {},
   "outputs": [],
   "source": []
  },
  {
   "cell_type": "code",
   "execution_count": null,
   "metadata": {},
   "outputs": [],
   "source": []
  },
  {
   "cell_type": "code",
   "execution_count": null,
   "metadata": {},
   "outputs": [],
   "source": []
  },
  {
   "cell_type": "code",
   "execution_count": null,
   "metadata": {},
   "outputs": [],
   "source": []
  },
  {
   "cell_type": "code",
   "execution_count": null,
   "metadata": {},
   "outputs": [],
   "source": []
  },
  {
   "cell_type": "code",
   "execution_count": null,
   "metadata": {},
   "outputs": [],
   "source": []
  },
  {
   "cell_type": "code",
   "execution_count": null,
   "metadata": {},
   "outputs": [],
   "source": []
  },
  {
   "cell_type": "code",
   "execution_count": null,
   "metadata": {},
   "outputs": [],
   "source": []
  },
  {
   "cell_type": "code",
   "execution_count": null,
   "metadata": {},
   "outputs": [],
   "source": [
    "data.columns"
   ]
  },
  {
   "cell_type": "code",
   "execution_count": null,
   "metadata": {},
   "outputs": [],
   "source": [
    "def value_counts_sorted(series):\n",
    "    vc = series.value_counts().sort_values(ascending = False)\n",
    "    n = len(vc)\n",
    "    return n, vc.index, vc.values    "
   ]
  },
  {
   "cell_type": "code",
   "execution_count": null,
   "metadata": {},
   "outputs": [],
   "source": [
    "n, ids, vals = value_counts_sorted(data.event_id)"
   ]
  },
  {
   "cell_type": "markdown",
   "metadata": {},
   "source": [
    "## Map Plot"
   ]
  },
  {
   "cell_type": "code",
   "execution_count": null,
   "metadata": {},
   "outputs": [],
   "source": [
    "from mpl_toolkits.basemap import Basemap"
   ]
  },
  {
   "cell_type": "code",
   "execution_count": null,
   "metadata": {},
   "outputs": [],
   "source": [
    "plt.figure(figsize=(16,10))\n",
    "\n",
    "#colors\n",
    "colors = cm.rainbow(np.linspace(0, 1, 10))\n",
    "\n",
    "# numbers given for the continential united states\n",
    "m = Basemap(projection='mill'\n",
    "            , llcrnrlat = 20 # south -90 min\n",
    "            , urcrnrlat = 50 # north 90 max\n",
    "            , llcrnrlon = -130 # west -180 min\n",
    "            , urcrnrlon = -60 # east 180 max\n",
    "            , resolution = 'c'\n",
    "           )\n",
    "\n",
    "m.drawcoastlines()\n",
    "m.drawmapboundary(fill_color='#edf7fe', linewidth=0)\n",
    "\n",
    "m.fillcontinents(color='gray'\n",
    "                 , alpha=0.25\n",
    "                )\n",
    "m.drawcountries()\n",
    "\n",
    "events_lat_y = data['Latitude'].tolist()\n",
    "events_lon_x = data['Longitude'].tolist()\n",
    "\n",
    "m.scatter(events_lon_x\n",
    "          , events_lat_y\n",
    "          , latlon=True\n",
    "          , c='red'\n",
    "         )\n",
    "\n",
    "m.plot(data['Longitude']\n",
    "       , data['Latitude']\n",
    "      )\n",
    "\n",
    "plt.title('Map of Users as of December 2020', fontsize=30)\n",
    "\n",
    "plt.savefig('./figures/map_users_Dec2020.png')\n",
    "plt.show();"
   ]
  },
  {
   "cell_type": "code",
   "execution_count": null,
   "metadata": {},
   "outputs": [],
   "source": []
  }
 ],
 "metadata": {
  "kernelspec": {
   "display_name": "Python 3",
   "language": "python",
   "name": "python3"
  },
  "language_info": {
   "codemirror_mode": {
    "name": "ipython",
    "version": 3
   },
   "file_extension": ".py",
   "mimetype": "text/x-python",
   "name": "python",
   "nbconvert_exporter": "python",
   "pygments_lexer": "ipython3",
   "version": "3.8.5"
  }
 },
 "nbformat": 4,
 "nbformat_minor": 4
}
